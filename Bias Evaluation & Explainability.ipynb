{
 "cells": [
  {
   "cell_type": "code",
   "execution_count": null,
   "metadata": {
    "slideshow": {
     "slide_type": "slide"
    }
   },
   "outputs": [],
   "source": [
    "import numpy as np\n",
    "import sklearn\n",
    "from sklearn.model_selection import train_test_split\n",
    "from sklearn.metrics import classification_report, mean_squared_error, roc_curve, auc\n",
    "import seaborn as sn\n",
    "import matplotlib.pyplot as plt\n",
    "import pandas as pd\n",
    "import shap\n",
    "from keras.layers import Input, Dense, Flatten, \\\n",
    "    Concatenate, concatenate, Dropout, Lambda\n",
    "from keras.models import Model, Sequential\n",
    "from keras.layers.embeddings import Embedding\n",
    "import keras\n",
    "from livelossplot import PlotLossesKeras\n",
    "import eli5\n",
    "from eli5.sklearn import PermutationImportance\n",
    "import scipy\n",
    "from scipy.cluster import hierarchy as hc\n",
    "from lime.lime_tabular import LimeTabularExplainer\n",
    "import math\n",
    "import xai\n",
    "import alibi\n",
    "\n",
    "params = {\n",
    "          \"ytick.color\" : \"w\",\n",
    "          \"xtick.color\" : \"w\",\n",
    "          \"text.color\": \"white\",\n",
    "          'figure.facecolor': \"#384151\",\n",
    "          'legend.facecolor': \"#384151\",\n",
    "          \"axes.labelcolor\" : \"w\",\n",
    "          \"axes.edgecolor\" : \"w\",\n",
    "          'font.size': '20.0',\n",
    "          'figure.figsize': [20, 7],\n",
    "    }\n",
    "\n",
    "plt.rcParams.update(params)\n",
    "\n",
    "\n",
    "shap.initjs()\n",
    "  \n",
    "\n",
    "label_column = \"loan\"\n",
    "csv_path = 'data/adult.data'\n",
    "csv_columns = [\"age\", \"workclass\", \"fnlwgt\", \"education\", \"education-num\", \"marital-status\",\n",
    "                   \"occupation\", \"relationship\", \"ethnicity\", \"gender\", \"capital-gain\", \"capital-loss\",\n",
    "                   \"hours-per-week\", \"native-country\", \"loan\"]\n",
    "input_columns = [\"age\", \"workclass\", \"education\", \"education-num\", \"marital-status\",\n",
    "                   \"occupation\", \"relationship\", \"ethnicity\", \"gender\", \"capital-gain\", \"capital-loss\",\n",
    "                   \"hours-per-week\", \"native-country\"]\n",
    "categorical_features = [\"workclass\", \"education\", \"marital-status\",\n",
    "                       \"occupation\", \"relationship\", \"ethnicity\", \"gender\",\n",
    "                       \"native-country\"]\n",
    "\n",
    "def prepare_data(df):\n",
    "    \n",
    "    if \"fnlwgt\" in df: del df[\"fnlwgt\"]\n",
    "    \n",
    "    tmp_df = df.copy()\n",
    "\n",
    "    # normalize data (this is important for model convergence)\n",
    "    dtypes = list(zip(tmp_df.dtypes.index, map(str, tmp_df.dtypes)))\n",
    "    for k,dtype in dtypes:\n",
    "        if dtype == \"int64\":\n",
    "            tmp_df[k] = tmp_df[k].astype(np.float32)\n",
    "            tmp_df[k] -= tmp_df[k].mean()\n",
    "            tmp_df[k] /= tmp_df[k].std()\n",
    "\n",
    "    cat_columns = tmp_df.select_dtypes(['object']).columns\n",
    "    tmp_df[cat_columns] = tmp_df[cat_columns].astype('category')\n",
    "    tmp_df[cat_columns] = tmp_df[cat_columns].apply(lambda x: x.cat.codes)\n",
    "    tmp_df[cat_columns] = tmp_df[cat_columns].astype('int8')\n",
    "    \n",
    "    return tmp_df\n",
    "\n",
    "def get_dataset_1():\n",
    "    tmp_df = df.copy()\n",
    "    tmp_df = tmp_df.groupby('loan') \\\n",
    "                .apply(lambda x: x.sample(100) if x[\"loan\"].iloc[0] else x.sample(7_900)) \\\n",
    "                .reset_index(drop=True)\n",
    "    \n",
    "    X = tmp_df.drop(label_column, axis=1).copy()\n",
    "    y = tmp_df[label_column].astype(int).values.copy()\n",
    "    \n",
    "    return tmp_df, df_display.copy()\n",
    "\n",
    "def get_production_dataset():\n",
    "    tmp_df = df.copy()\n",
    "    tmp_df = tmp_df.groupby('loan') \\\n",
    "                .apply(lambda x: x.sample(50) if x[\"loan\"].iloc[0] else x.sample(60)) \\\n",
    "                .reset_index(drop=True)\n",
    "    \n",
    "    X = tmp_df.drop(label_column, axis=1).copy()\n",
    "    y = tmp_df[label_column].astype(int).values.copy()\n",
    "    \n",
    "    return X, y\n",
    "\n",
    "\n",
    "def get_dataset_2():\n",
    "    tmp_df = df.copy()\n",
    "    tmp_df_display = df_display.copy()\n",
    "#     tmp_df_display[label_column] = tmp_df_display[label_column].astype(int).values\n",
    "    \n",
    "    X = tmp_df.drop(label_column, axis=1).copy()\n",
    "    y = tmp_df[label_column].astype(int).values.copy()\n",
    "    \n",
    "    X_display = tmp_df_display.drop(label_column, axis=1).copy()\n",
    "    y_display = tmp_df_display[label_column].astype(int).values.copy()\n",
    "    \n",
    "    X_train, X_valid, y_train, y_valid = \\\n",
    "        train_test_split(X, y, test_size=0.2, random_state=7)\n",
    "\n",
    "    return X, y, X_train, X_valid, y_train, y_valid, X_display, y_display, tmp_df, tmp_df_display\n",
    "    \n",
    "df_display = pd.read_csv(csv_path, names=csv_columns)\n",
    "df_display[label_column] = df_display[label_column].apply(lambda x: \">50K\" in x)\n",
    "df = prepare_data(df_display)\n",
    "\n",
    "def build_model(X):\n",
    "    input_els = []\n",
    "    encoded_els = []\n",
    "    dtypes = list(zip(X.dtypes.index, map(str, X.dtypes)))\n",
    "    for k,dtype in dtypes:\n",
    "        input_els.append(Input(shape=(1,)))\n",
    "        if dtype == \"int8\":\n",
    "            e = Flatten()(Embedding(df[k].max()+1, 1)(input_els[-1]))\n",
    "        else:\n",
    "            e = input_els[-1]\n",
    "        encoded_els.append(e)\n",
    "    encoded_els = concatenate(encoded_els)\n",
    "\n",
    "    layer1 = Dropout(0.5)(Dense(100, activation=\"relu\")(encoded_els))\n",
    "    out = Dense(1, activation='sigmoid')(layer1)\n",
    "\n",
    "    # train model\n",
    "    model = Model(inputs=input_els, outputs=[out])\n",
    "    model.compile(optimizer=\"adam\", loss='binary_crossentropy', metrics=['accuracy'])\n",
    "    return model\n",
    "\n",
    "def f_in(X, m=None):\n",
    "    \"\"\"Preprocess input so it can be provided to a function\"\"\"\n",
    "    if m:\n",
    "        return [X.iloc[:m,i] for i in range(X.shape[1])]\n",
    "    else:\n",
    "        return [X.iloc[:,i] for i in range(X.shape[1])]\n",
    "\n",
    "def f_out(probs):\n",
    "    \"\"\"Convert probabilities into classes\"\"\"\n",
    "    return list((probs >= 0.5).astype(int).T[0])\n",
    "\n",
    "def plot_roc(y, probs):\n",
    "    \n",
    "    fpr, tpr, _ = roc_curve(y, probs)\n",
    "\n",
    "    roc_auc = auc(fpr, tpr)\n",
    "    print(roc_auc)\n",
    "\n",
    "    plt.figure()\n",
    "    plt.plot(fpr, tpr, label='ROC curve (area = %0.2f)' % roc_auc)\n",
    "    plt.plot([0, 1], [0, 1], 'k--')\n",
    "    plt.xlim([0.0, 1.0])\n",
    "    plt.ylim([0.0, 1.05])\n",
    "    plt.xlabel('False Positive Rate')\n",
    "    plt.ylabel('True Positive Rate')\n",
    "    plt.title('ROC curve (area = %0.2f)' % roc_auc)\n",
    "    plt.legend(loc=\"lower right\")\n",
    "    plt.rcParams.update(params)\n",
    "    plt.show()\n",
    "    \n",
    "def plot_learning_curves(model, X, y):\n",
    "    X_train, X_val, y_train, y_val = train_test_split(X, y, test_size=0.2)\n",
    "    train_errors, val_errors = [], []\n",
    "    for m in list(np.logspace(0.6,4,dtype='int')):\n",
    "        if m >= len(X_train): break\n",
    "        model.fit(f_in(X_train,m), y_train[:m], epochs=50, batch_size=512, verbose=0)\n",
    "        y_train_predict = model.predict(f_in(X_train,m))\n",
    "        y_val_predict = model.predict(f_in(X_val))\n",
    "        y_train_predict = f_out(y_train_predict)\n",
    "        y_val_predict = f_out(y_val_predict)\n",
    "        train_errors.append(mean_squared_error(y_train[:m], y_train_predict))\n",
    "        val_errors.append(mean_squared_error(y_val, y_val_predict))\n",
    "    plt.plot(np.sqrt(train_errors), \"r-+\", linewidth=2, label=\"train\")\n",
    "    plt.plot(np.sqrt(val_errors), \"b-\", linewidth=3, label=\"val\")\n",
    "    \n",
    "def keras_score(self, X, y, **kwargs):\n",
    "    \"\"\" Scorer class for eli5 library on feature importance\"\"\"\n",
    "    input_test = [X[:,i] for i in range(X.shape[1])]\n",
    "    loss = self.evaluate(input_test, y)\n",
    "    if type(loss) is list:\n",
    "        # The first one is the error, the rest are metrics\n",
    "        return -loss[0]\n",
    "    return -loss\n",
    "\n",
    "class ModelWrapper():\n",
    "    \"\"\" Keras model wrapper to override the predict function\"\"\"\n",
    "    def __init__(self, model):\n",
    "        self.model = model\n",
    "    \n",
    "    def predict(self, X, **kwargs):\n",
    "        return self.model.predict([X.iloc[:,i] for i in range(X.shape[1])])\n",
    "\n",
    "def plot_all_features(X, plot_numeric=True, hist=True, dropna=False):\n",
    "    fig = plt.figure(figsize=(20,15))\n",
    "    cols = 5\n",
    "    rows = math.ceil(float(X.shape[1]) / cols)\n",
    "    for i, column in enumerate(X.columns):\n",
    "        ax = fig.add_subplot(rows, cols, i + 1)\n",
    "        ax.set_title(column)\n",
    "        if X.dtypes[column] == np.object:\n",
    "            X[column].value_counts().plot(kind=\"bar\", axes=ax)\n",
    "        elif plot_numeric:\n",
    "            if hist:\n",
    "                X[column].hist(axes=ax)\n",
    "                plt.xticks(rotation=\"vertical\")\n",
    "            else:\n",
    "                if dropna:\n",
    "                    X[column].dropna().plot()\n",
    "                else:\n",
    "                    X[column].plot()\n",
    "                    \n",
    "    plt.subplots_adjust(hspace=0.7, wspace=0.2)\n",
    "    \n",
    "def plot_dendogram(corr, X):\n",
    "    corr_condensed = hc.distance.squareform(1-corr)\n",
    "    z = hc.linkage(corr_condensed, method=\"average\")\n",
    "    fig = plt.figure(figsize=(16,5))\n",
    "    dendrogram = hc.dendrogram(\n",
    "        z, labels=X.columns, orientation=\"left\", leaf_font_size=16)\n",
    "    plt.show()\n",
    "    \n",
    "def shap_predict(X):\n",
    "    values = model.predict([X[:,i] for i in range(X.shape[1])]).flatten()\n",
    "    return values\n",
    "\n",
    "def lime_predict_proba(X):\n",
    "    values = model.predict([X[:,i] for i in range(X.shape[1])]).flatten()\n",
    "    prob_pairs = np.array([1-values, values]).T\n",
    "    return prob_pairs    \n",
    "\n",
    "\n",
    "import alibi\n",
    "import numpy as np\n",
    "from sklearn.preprocessing import LabelEncoder, StandardScaler, OneHotEncoder\n",
    "from sklearn.impute import SimpleImputer\n",
    "from sklearn.pipeline import Pipeline\n",
    "from sklearn.compose import ColumnTransformer\n",
    "from sklearn.ensemble import RandomForestClassifier\n",
    "\n",
    "alibi_data, alibi_labels, alibi_feature_names, alibi_category_map = alibi.datasets.adult()\n",
    "\n",
    "def get_alibi_data():\n",
    "    \n",
    "    # define train and test set\n",
    "    np.random.seed(0)\n",
    "    data_perm = np.random.permutation(np.c_[alibi_data, alibi_labels])\n",
    "    data = data_perm[:, :-1]\n",
    "    labels = data_perm[:, -1]\n",
    "\n",
    "    idx = 30000\n",
    "    X_train, y_train = data[:idx, :], labels[:idx]\n",
    "    X_test, y_test = data[idx + 1:, :], labels[idx + 1:]\n",
    "\n",
    "    # feature transformation pipeline\n",
    "    ordinal_features = [x for x in range(len(alibi_feature_names)) if x not in list(alibi_category_map.keys())]\n",
    "    ordinal_transformer = Pipeline(steps=[('imputer', SimpleImputer(strategy='median')),\n",
    "                                          ('scaler', StandardScaler())])\n",
    "\n",
    "    categorical_features = list(alibi_category_map.keys())\n",
    "    categorical_transformer = Pipeline(steps=[('imputer', SimpleImputer(strategy='median')),\n",
    "                                              ('onehot', OneHotEncoder(handle_unknown='ignore'))])\n",
    "\n",
    "    preprocessor = ColumnTransformer(transformers=[('num', ordinal_transformer, ordinal_features),\n",
    "                                                   ('cat', categorical_transformer, categorical_features)])\n",
    "\n",
    "\n",
    "    np.random.seed(0)\n",
    "    clf = RandomForestClassifier(n_estimators=50)\n",
    "\n",
    "    alibi_loan_model = Pipeline(steps=[\n",
    "        ('preprocessor', preprocessor),\n",
    "        ('clf', clf)])\n",
    "\n",
    "    alibi_loan_model.fit(X_train, y_train)\n",
    "    \n",
    "    return X_train, X_test, y_train, y_test, \\\n",
    "        alibi_category_map, alibi_feature_names, alibi_loan_model\n",
    "\n",
    "X_train_alibi, X_test_alibi, y_train_alibi, y_test_alibi, \\\n",
    "    category_map_alibi, feature_names_alibi, loan_model_alibi = get_alibi_data()\n",
    "\n",
    "\n",
    "import tensorflow as tf\n",
    "tf.logging.set_verbosity(tf.logging.ERROR)  # suppress deprecation messages\n",
    "from tensorflow.keras.models import load_model\n",
    "from tensorflow.keras.utils import to_categorical\n",
    "\n",
    "from alibi.explainers import CounterFactual\n",
    "\n",
    "# def cnn_model():\n",
    "#     from tensorflow.keras import backend as K\n",
    "#     from tensorflow.keras.layers import Conv2D, Dense, Dropout, Flatten, MaxPooling2D, Input, UpSampling2D\n",
    "#     from tensorflow.keras.models import Model\n",
    "#     x_in = Input(shape=(28, 28, 1))\n",
    "#     x = Conv2D(filters=64, kernel_size=2, padding='same', activation='relu')(x_in)\n",
    "#     x = MaxPooling2D(pool_size=2)(x)\n",
    "#     x = Dropout(0.3)(x)\n",
    "#     x = Conv2D(filters=32, kernel_size=2, padding='same', activation='relu')(x)\n",
    "#     x = MaxPooling2D(pool_size=2)(x)\n",
    "#     x = Dropout(0.3)(x)\n",
    "#     x = Flatten()(x)\n",
    "#     x = Dense(256, activation='relu')(x)\n",
    "#     x = Dropout(0.5)(x)\n",
    "#     x_out = Dense(10, activation='softmax')(x)\n",
    "#     cnn = Model(inputs=x_in, outputs=x_out)\n",
    "#     cnn.compile(loss='categorical_crossentropy', optimizer='adam', metrics=['accuracy'])\n",
    "#     return cnn\n",
    "\n",
    "# cnn = cnn_model()\n",
    "# cnn.summary()\n",
    "# cnn.fit(x_train, y_train, batch_size=64, epochs=3, verbose=0)\n",
    "# cnn.save('mnist_cnn.h5')\n",
    "\n",
    "def show_iterations(explanation, max_lam_steps=10):\n",
    "    n_cfs = np.array([len(explanation['all'][iter_cf]) for iter_cf in range(max_lam_steps)])\n",
    "    examples = {}\n",
    "    for ix, n in enumerate(n_cfs):\n",
    "        if n>0:\n",
    "            examples[ix] = {'ix': ix, 'lambda': explanation['all'][ix][0]['lambda'],\n",
    "                           'X': explanation['all'][ix][0]['X']}\n",
    "    columns = len(examples) + 1\n",
    "    rows = 1\n",
    "\n",
    "    fig = plt.figure(figsize=(16,6))\n",
    "\n",
    "    for i, key in enumerate(examples.keys()):\n",
    "        ax = plt.subplot(rows, columns, i+1)\n",
    "        ax.get_xaxis().set_visible(False)\n",
    "        ax.get_yaxis().set_visible(False)\n",
    "        plt.imshow(examples[key]['X'].reshape(28,28))\n",
    "        plt.title(f'Iter {key}')\n",
    "\n",
    "(cf_x_train, cf_y_train), (cf_x_test, cf_y_test) = tf.keras.datasets.mnist.load_data()\n",
    "print('x_train shape:', cf_x_train.shape, 'y_train shape:', cf_y_train.shape)\n",
    "plt.gray()\n",
    "\n",
    "cf_x_train = cf_x_train.astype('float32') / 255\n",
    "cf_x_test = cf_x_test.astype('float32') / 255\n",
    "cf_x_train = np.reshape(cf_x_train, cf_x_train.shape + (1,))\n",
    "cf_x_test = np.reshape(cf_x_test, cf_x_test.shape + (1,))\n",
    "cf_y_train = to_categorical(cf_y_train)\n",
    "cf_y_test = to_categorical(cf_y_test)\n",
    "\n",
    "cf_xmin, cf_xmax = -.5, .5\n",
    "cf_x_train = ((cf_x_train - cf_x_train.min()) / (cf_x_train.max() - cf_x_train.min())) * (cf_xmax - cf_xmin) + cf_xmin\n",
    "cf_x_test = ((cf_x_test - cf_x_test.min()) / (cf_x_test.max() - cf_x_test.min())) * (cf_xmax - cf_xmin) + cf_xmin\n",
    "        "
   ]
  },
  {
   "cell_type": "markdown",
   "metadata": {
    "slideshow": {
     "slide_type": "slide"
    }
   },
   "source": [
    "# A practical guide towards explainability\n",
    "# and bias evaluation in machine learning\n",
    "\n",
    "<br>\n",
    "<br>\n",
    "<br>\n",
    "<br>\n",
    "<br>\n",
    "\n",
    "<br>\n",
    "\n",
    "<br>\n",
    "\n",
    "<br>\n",
    "<br>\n",
    "\n",
    "<h2>Alejandro Saucedo</h2>\n",
    "<br>\n",
    "Chief Scientist, The Institute for Ethical AI & Machine Learning\n",
    "<br>\n",
    "Director of ML Engineering, Seldon Technologies\n",
    "\n",
    "<br>\n",
    "<br>\n",
    "<h3>Twitter: AxSaucedo</h3>\n",
    "<br>\n",
    "<h3>Slides: github.com/EthicalML/explainability-and-bias</h3>\n",
    "\n",
    "<br><br><br>\n",
    "\n",
    "<hr>\n"
   ]
  },
  {
   "cell_type": "markdown",
   "metadata": {
    "slideshow": {
     "slide_type": "subslide"
    }
   },
   "source": [
    "# Today\n",
    "\n",
    "<br>\n",
    "<br>\n",
    "\n",
    "## 1) Hands on example: Company \"Hype-ML\" automating loan approval process \n",
    "\n",
    "<br>\n",
    "<br>\n",
    "\n",
    "## 2) Terminology + why it's not about \"just removing bias\"\n",
    "\n",
    "<br>\n",
    "<br>\n",
    "\n",
    "## 3) Data Analysis\n",
    "\n",
    "<br>\n",
    "<br>\n",
    "\n",
    "## 4) Model Evaluation\n",
    "\n",
    "\n",
    "<br>\n",
    "<br>\n",
    "\n",
    "## 5) Production Monitoring\n",
    "\n",
    "<br>\n",
    "\n",
    "<br><br><br>\n",
    "\n",
    "<hr>"
   ]
  },
  {
   "cell_type": "markdown",
   "metadata": {
    "slideshow": {
     "slide_type": "subslide"
    }
   },
   "source": [
    "# Hype-ML - A NEW Project has come in!\n",
    "\n",
    "<br>\n",
    "\n",
    "* Insurance company has a process where domain expert approves/rejects loan applications\n",
    "\n",
    "<br>\n",
    "\n",
    "* They receive over 1m applications and want to automate the process\n",
    "\n",
    "<br>\n",
    "\n",
    "# Business wants it NOW!\n",
    "\n",
    "<br>\n",
    "\n",
    "* They heard their competitor is using \"Machine Learning\" and business says we need to use that\n",
    "\n",
    "\n",
    "\n",
    "<br><br><br>\n",
    "\n",
    "<hr>"
   ]
  },
  {
   "cell_type": "markdown",
   "metadata": {
    "slideshow": {
     "slide_type": "subslide"
    }
   },
   "source": [
    "# The team had a look at how this worked\n",
    "\n",
    "<br>\n",
    "\n",
    "<img src=\"images/mlall.png\" style=\"width:70vw\">\n",
    "\n",
    "\n",
    "\n",
    "<br><br><br>\n",
    "\n",
    "<hr>"
   ]
  },
  {
   "cell_type": "markdown",
   "metadata": {
    "slideshow": {
     "slide_type": "subslide"
    }
   },
   "source": [
    "# The team asked for DATA\n",
    "\n",
    "<br>\n",
    "<br>\n",
    "\n",
    "## Business gave them an excel sheet with 25 rows\n",
    "\n",
    "<br>\n",
    "<br>\n",
    "\n",
    "The team pushed back, and after a while they finally got a dataset with ~8000 rows\n",
    "\n",
    "\n",
    "\n",
    "\n",
    "<br><br><br>\n",
    "\n",
    "<hr>\n",
    "\n",
    "<br><br><br>\n"
   ]
  },
  {
   "cell_type": "markdown",
   "metadata": {
    "slideshow": {
     "slide_type": "subslide"
    }
   },
   "source": [
    "# And so it begun...\n",
    "\n",
    "<br>\n",
    "\n",
    "<img src=\"images/copypasta.jpg\" style=\"height:50vh\">\n",
    "\n",
    "<br>\n",
    "<br>\n",
    "\n",
    "## The Hype-ML journey towards greatness...\n",
    "\n",
    "<br><br><br>\n",
    "\n",
    "<hr>\n",
    "\n",
    "<br><br><br>"
   ]
  },
  {
   "cell_type": "code",
   "execution_count": 160,
   "metadata": {
    "slideshow": {
     "slide_type": "subslide"
    }
   },
   "outputs": [
    {
     "data": {
      "text/html": [
       "<div>\n",
       "<style scoped>\n",
       "    .dataframe tbody tr th:only-of-type {\n",
       "        vertical-align: middle;\n",
       "    }\n",
       "\n",
       "    .dataframe tbody tr th {\n",
       "        vertical-align: top;\n",
       "    }\n",
       "\n",
       "    .dataframe thead th {\n",
       "        text-align: right;\n",
       "    }\n",
       "</style>\n",
       "<table border=\"1\" class=\"dataframe\">\n",
       "  <thead>\n",
       "    <tr style=\"text-align: right;\">\n",
       "      <th></th>\n",
       "      <th>age</th>\n",
       "      <th>workclass</th>\n",
       "      <th>education</th>\n",
       "      <th>education-num</th>\n",
       "      <th>marital-status</th>\n",
       "      <th>occupation</th>\n",
       "      <th>relationship</th>\n",
       "      <th>ethnicity</th>\n",
       "      <th>gender</th>\n",
       "      <th>capital-gain</th>\n",
       "      <th>capital-loss</th>\n",
       "      <th>hours-per-week</th>\n",
       "      <th>native-country</th>\n",
       "      <th>loan</th>\n",
       "    </tr>\n",
       "  </thead>\n",
       "  <tbody>\n",
       "    <tr>\n",
       "      <td>0</td>\n",
       "      <td>39</td>\n",
       "      <td>State-gov</td>\n",
       "      <td>Bachelors</td>\n",
       "      <td>13</td>\n",
       "      <td>Never-married</td>\n",
       "      <td>Adm-clerical</td>\n",
       "      <td>Not-in-family</td>\n",
       "      <td>White</td>\n",
       "      <td>Male</td>\n",
       "      <td>2174</td>\n",
       "      <td>0</td>\n",
       "      <td>40</td>\n",
       "      <td>United-States</td>\n",
       "      <td>False</td>\n",
       "    </tr>\n",
       "    <tr>\n",
       "      <td>1</td>\n",
       "      <td>50</td>\n",
       "      <td>Self-emp-not-inc</td>\n",
       "      <td>Bachelors</td>\n",
       "      <td>13</td>\n",
       "      <td>Married-civ-spouse</td>\n",
       "      <td>Exec-managerial</td>\n",
       "      <td>Husband</td>\n",
       "      <td>White</td>\n",
       "      <td>Male</td>\n",
       "      <td>0</td>\n",
       "      <td>0</td>\n",
       "      <td>13</td>\n",
       "      <td>United-States</td>\n",
       "      <td>False</td>\n",
       "    </tr>\n",
       "    <tr>\n",
       "      <td>2</td>\n",
       "      <td>38</td>\n",
       "      <td>Private</td>\n",
       "      <td>HS-grad</td>\n",
       "      <td>9</td>\n",
       "      <td>Divorced</td>\n",
       "      <td>Handlers-cleaners</td>\n",
       "      <td>Not-in-family</td>\n",
       "      <td>White</td>\n",
       "      <td>Male</td>\n",
       "      <td>0</td>\n",
       "      <td>0</td>\n",
       "      <td>40</td>\n",
       "      <td>United-States</td>\n",
       "      <td>False</td>\n",
       "    </tr>\n",
       "    <tr>\n",
       "      <td>3</td>\n",
       "      <td>53</td>\n",
       "      <td>Private</td>\n",
       "      <td>11th</td>\n",
       "      <td>7</td>\n",
       "      <td>Married-civ-spouse</td>\n",
       "      <td>Handlers-cleaners</td>\n",
       "      <td>Husband</td>\n",
       "      <td>Black</td>\n",
       "      <td>Male</td>\n",
       "      <td>0</td>\n",
       "      <td>0</td>\n",
       "      <td>40</td>\n",
       "      <td>United-States</td>\n",
       "      <td>False</td>\n",
       "    </tr>\n",
       "    <tr>\n",
       "      <td>4</td>\n",
       "      <td>28</td>\n",
       "      <td>Private</td>\n",
       "      <td>Bachelors</td>\n",
       "      <td>13</td>\n",
       "      <td>Married-civ-spouse</td>\n",
       "      <td>Prof-specialty</td>\n",
       "      <td>Wife</td>\n",
       "      <td>Black</td>\n",
       "      <td>Female</td>\n",
       "      <td>0</td>\n",
       "      <td>0</td>\n",
       "      <td>40</td>\n",
       "      <td>Cuba</td>\n",
       "      <td>False</td>\n",
       "    </tr>\n",
       "  </tbody>\n",
       "</table>\n",
       "</div>"
      ],
      "text/plain": [
       "   age          workclass   education  education-num       marital-status  \\\n",
       "0   39          State-gov   Bachelors             13        Never-married   \n",
       "1   50   Self-emp-not-inc   Bachelors             13   Married-civ-spouse   \n",
       "2   38            Private     HS-grad              9             Divorced   \n",
       "3   53            Private        11th              7   Married-civ-spouse   \n",
       "4   28            Private   Bachelors             13   Married-civ-spouse   \n",
       "\n",
       "           occupation    relationship ethnicity   gender  capital-gain  \\\n",
       "0        Adm-clerical   Not-in-family     White     Male          2174   \n",
       "1     Exec-managerial         Husband     White     Male             0   \n",
       "2   Handlers-cleaners   Not-in-family     White     Male             0   \n",
       "3   Handlers-cleaners         Husband     Black     Male             0   \n",
       "4      Prof-specialty            Wife     Black   Female             0   \n",
       "\n",
       "   capital-loss  hours-per-week  native-country   loan  \n",
       "0             0              40   United-States  False  \n",
       "1             0              13   United-States  False  \n",
       "2             0              40   United-States  False  \n",
       "3             0              40   United-States  False  \n",
       "4             0              40            Cuba  False  "
      ]
     },
     "execution_count": 160,
     "metadata": {},
     "output_type": "execute_result"
    }
   ],
   "source": [
    "df_data, df_display = get_dataset_1()\n",
    "\n",
    "df_display.head()"
   ]
  },
  {
   "cell_type": "code",
   "execution_count": 161,
   "metadata": {
    "slideshow": {
     "slide_type": "subslide"
    }
   },
   "outputs": [
    {
     "name": "stdout",
     "output_type": "stream",
     "text": [
      "Training size: (6400,) Testing size:  (1600,)\n"
     ]
    }
   ],
   "source": [
    "X = df_data.drop(label_column, axis=1).copy()\n",
    "y = df_data[label_column].astype(int).values.copy()\n",
    "\n",
    "X_train, X_valid, y_train, y_valid = \\\n",
    "        train_test_split(X, y, test_size=0.2, random_state=7)\n",
    "\n",
    "print(\"Training size:\", y_train.shape, \"Testing size: \", y_valid.shape)"
   ]
  },
  {
   "cell_type": "markdown",
   "metadata": {},
   "source": [
    "\n",
    "<img src=\"images/train-test.png\" style=\"width:70vw\">"
   ]
  },
  {
   "cell_type": "code",
   "execution_count": 162,
   "metadata": {
    "slideshow": {
     "slide_type": "subslide"
    }
   },
   "outputs": [
    {
     "data": {
      "image/png": "[encoded data removed]",
      "text/plain": [
       "<Figure size 864x576 with 2 Axes>"
      ]
     },
     "metadata": {},
     "output_type": "display_data"
    },
    {
     "name": "stdout",
     "output_type": "stream",
     "text": [
      "Log-loss (cost function):\n",
      "training   (min:    0.068, max:    0.553, cur:    0.068)\n",
      "validation (min:    0.062, max:    0.466, cur:    0.062)\n",
      "\n",
      "Accuracy:\n",
      "training   (min:    0.888, max:    0.988, cur:    0.988)\n",
      "validation (min:    0.987, max:    0.987, cur:    0.987)\n"
     ]
    },
    {
     "data": {
      "text/plain": [
       "<keras.callbacks.History at 0x7fae564f3898>"
      ]
     },
     "execution_count": 162,
     "metadata": {},
     "output_type": "execute_result"
    }
   ],
   "source": [
    "# 1 layer, 100 neurons model, with softmax (0-1 probabilities)\n",
    "model = build_model(X)\n",
    "\n",
    "model.fit(f_in(X_train), y_train, epochs=10,\n",
    "    batch_size=512, shuffle=True, validation_data=(f_in(X_valid), y_valid),\n",
    "    callbacks=[PlotLossesKeras()], verbose=0, validation_split=0.05,)"
   ]
  },
  {
   "cell_type": "code",
   "execution_count": 163,
   "metadata": {
    "slideshow": {
     "slide_type": "subslide"
    }
   },
   "outputs": [
    {
     "name": "stdout",
     "output_type": "stream",
     "text": [
      "1600/1600 [==============================] - 0s 47us/step\n",
      "Error 0.0623: \n",
      "Accuracy 98.6875: \n"
     ]
    }
   ],
   "source": [
    "score = model.evaluate(f_in(X_valid), y_valid, verbose=1)\n",
    "print(\"Error %.4f: \" % score[0])\n",
    "print(\"Accuracy %.4f: \" % (score[1]*100))"
   ]
  },
  {
   "cell_type": "markdown",
   "metadata": {
    "slideshow": {
     "slide_type": "subslide"
    }
   },
   "source": [
    "# Accuracy is ~98%!\n",
    "\n",
    "<br>\n",
    "<br>\n",
    "<br>\n",
    "<br>\n",
    "\n",
    "### What a better result on a Friday evening!\n",
    "\n",
    "<br>\n",
    "<br>\n",
    "<br>\n",
    "\n",
    "# Time for PROD?\n",
    "\n",
    "\n",
    "<br><br><br>\n",
    "\n",
    "<hr>\n",
    "\n",
    "<br><br><br>\n"
   ]
  },
  {
   "cell_type": "markdown",
   "metadata": {
    "slideshow": {
     "slide_type": "subslide"
    }
   },
   "source": [
    "# We push to PROD!\n",
    "\n",
    "<br>\n",
    "<br>\n",
    "<br>\n",
    "<br>\n",
    "\n",
    "### A few weeks go by...\n",
    "\n",
    "<br>\n",
    "\n",
    "\n",
    "<br><br><br>\n",
    "\n",
    "<hr>\n",
    "\n",
    "<br><br><br>\n"
   ]
  },
  {
   "cell_type": "markdown",
   "metadata": {
    "slideshow": {
     "slide_type": "subslide"
    }
   },
   "source": [
    "# BUZZFEED NEWS: HYPE-ML DEPLOYS RACIST SEXIST AI!!!!\n",
    "\n",
    "<br>\n",
    "\n",
    "<img src=\"images/layer.jpg\" style=\"height: 50vh\">\n",
    "\n",
    "\n",
    "<br>\n",
    "\n",
    "\n",
    "# ...but... but we followed the instructions in the internet!\n",
    "\n",
    "\n",
    "<br><br><br>\n",
    "\n",
    "<hr>\n",
    "\n",
    "<br><br><br>\n"
   ]
  },
  {
   "cell_type": "markdown",
   "metadata": {
    "slideshow": {
     "slide_type": "subslide"
    }
   },
   "source": [
    "# Time to diagnose!\n",
    "\n",
    "<br>\n",
    "<br>\n",
    "\n",
    "## We ask business to gather the 110 applications in production...\n",
    "\n",
    "<br>\n",
    "<br>\n",
    "\n",
    "## ...and label it to understand what went wrong\n",
    "\n",
    "\n",
    "<br><br><br>\n",
    "\n",
    "<hr>\n",
    "\n",
    "<br><br><br>"
   ]
  },
  {
   "cell_type": "code",
   "execution_count": 164,
   "metadata": {
    "slideshow": {
     "slide_type": "subslide"
    }
   },
   "outputs": [
    {
     "name": "stdout",
     "output_type": "stream",
     "text": [
      "(110, 13)\n"
     ]
    },
    {
     "data": {
      "text/html": [
       "<div>\n",
       "<style scoped>\n",
       "    .dataframe tbody tr th:only-of-type {\n",
       "        vertical-align: middle;\n",
       "    }\n",
       "\n",
       "    .dataframe tbody tr th {\n",
       "        vertical-align: top;\n",
       "    }\n",
       "\n",
       "    .dataframe thead th {\n",
       "        text-align: right;\n",
       "    }\n",
       "</style>\n",
       "<table border=\"1\" class=\"dataframe\">\n",
       "  <thead>\n",
       "    <tr style=\"text-align: right;\">\n",
       "      <th></th>\n",
       "      <th>age</th>\n",
       "      <th>workclass</th>\n",
       "      <th>education</th>\n",
       "      <th>education-num</th>\n",
       "      <th>marital-status</th>\n",
       "      <th>occupation</th>\n",
       "      <th>relationship</th>\n",
       "      <th>ethnicity</th>\n",
       "      <th>gender</th>\n",
       "      <th>capital-gain</th>\n",
       "      <th>capital-loss</th>\n",
       "      <th>hours-per-week</th>\n",
       "      <th>native-country</th>\n",
       "    </tr>\n",
       "  </thead>\n",
       "  <tbody>\n",
       "    <tr>\n",
       "      <td>0</td>\n",
       "      <td>0.177293</td>\n",
       "      <td>4</td>\n",
       "      <td>15</td>\n",
       "      <td>-0.031359</td>\n",
       "      <td>2</td>\n",
       "      <td>1</td>\n",
       "      <td>0</td>\n",
       "      <td>4</td>\n",
       "      <td>1</td>\n",
       "      <td>0.237140</td>\n",
       "      <td>-0.216656</td>\n",
       "      <td>-0.035429</td>\n",
       "      <td>39</td>\n",
       "    </tr>\n",
       "    <tr>\n",
       "      <td>1</td>\n",
       "      <td>-0.555822</td>\n",
       "      <td>4</td>\n",
       "      <td>9</td>\n",
       "      <td>1.134722</td>\n",
       "      <td>4</td>\n",
       "      <td>12</td>\n",
       "      <td>1</td>\n",
       "      <td>2</td>\n",
       "      <td>0</td>\n",
       "      <td>-0.145918</td>\n",
       "      <td>-0.216656</td>\n",
       "      <td>0.774456</td>\n",
       "      <td>39</td>\n",
       "    </tr>\n",
       "    <tr>\n",
       "      <td>2</td>\n",
       "      <td>-1.142313</td>\n",
       "      <td>4</td>\n",
       "      <td>8</td>\n",
       "      <td>0.357334</td>\n",
       "      <td>4</td>\n",
       "      <td>3</td>\n",
       "      <td>4</td>\n",
       "      <td>2</td>\n",
       "      <td>0</td>\n",
       "      <td>-0.145918</td>\n",
       "      <td>-0.216656</td>\n",
       "      <td>-0.035429</td>\n",
       "      <td>39</td>\n",
       "    </tr>\n",
       "    <tr>\n",
       "      <td>3</td>\n",
       "      <td>0.397227</td>\n",
       "      <td>4</td>\n",
       "      <td>12</td>\n",
       "      <td>1.523415</td>\n",
       "      <td>5</td>\n",
       "      <td>12</td>\n",
       "      <td>4</td>\n",
       "      <td>4</td>\n",
       "      <td>0</td>\n",
       "      <td>-0.145918</td>\n",
       "      <td>-0.216656</td>\n",
       "      <td>0.612479</td>\n",
       "      <td>39</td>\n",
       "    </tr>\n",
       "    <tr>\n",
       "      <td>4</td>\n",
       "      <td>-1.069002</td>\n",
       "      <td>4</td>\n",
       "      <td>15</td>\n",
       "      <td>-0.031359</td>\n",
       "      <td>4</td>\n",
       "      <td>13</td>\n",
       "      <td>1</td>\n",
       "      <td>4</td>\n",
       "      <td>0</td>\n",
       "      <td>-0.145918</td>\n",
       "      <td>-0.216656</td>\n",
       "      <td>-1.979153</td>\n",
       "      <td>39</td>\n",
       "    </tr>\n",
       "  </tbody>\n",
       "</table>\n",
       "</div>"
      ],
      "text/plain": [
       "        age  workclass  education  education-num  marital-status  occupation  \\\n",
       "0  0.177293          4         15      -0.031359               2           1   \n",
       "1 -0.555822          4          9       1.134722               4          12   \n",
       "2 -1.142313          4          8       0.357334               4           3   \n",
       "3  0.397227          4         12       1.523415               5          12   \n",
       "4 -1.069002          4         15      -0.031359               4          13   \n",
       "\n",
       "   relationship  ethnicity  gender  capital-gain  capital-loss  \\\n",
       "0             0          4       1      0.237140     -0.216656   \n",
       "1             1          2       0     -0.145918     -0.216656   \n",
       "2             4          2       0     -0.145918     -0.216656   \n",
       "3             4          4       0     -0.145918     -0.216656   \n",
       "4             1          4       0     -0.145918     -0.216656   \n",
       "\n",
       "   hours-per-week  native-country  \n",
       "0       -0.035429              39  \n",
       "1        0.774456              39  \n",
       "2       -0.035429              39  \n",
       "3        0.612479              39  \n",
       "4       -1.979153              39  "
      ]
     },
     "execution_count": 164,
     "metadata": {},
     "output_type": "execute_result"
    }
   ],
   "source": [
    "X_prod, y_prod = get_production_dataset()\n",
    "\n",
    "print(X_prod.shape)\n",
    "X_prod.head()"
   ]
  },
  {
   "cell_type": "code",
   "execution_count": 165,
   "metadata": {
    "slideshow": {
     "slide_type": "subslide"
    }
   },
   "outputs": [
    {
     "data": {
      "image/png": "[encoded data removed]",
      "text/plain": [
       "<Figure size 1440x360 with 1 Axes>"
      ]
     },
     "metadata": {},
     "output_type": "display_data"
    }
   ],
   "source": [
    "probabilities = model.predict(f_in(X_prod))\n",
    "pred = f_out(probabilities)\n",
    "_= xai.metrics_plot(pred, y_prod, exclude_metrics=[\"auc\", \"specificity\", \"f1\"])"
   ]
  },
  {
   "cell_type": "code",
   "execution_count": 166,
   "metadata": {
    "slideshow": {
     "slide_type": "subslide"
    }
   },
   "outputs": [
    {
     "data": {
      "image/png": "[encoded data removed]",
      "text/plain": [
       "<Figure size 1440x504 with 2 Axes>"
      ]
     },
     "metadata": {},
     "output_type": "display_data"
    }
   ],
   "source": [
    "xai.confusion_matrix_plot(y_prod, pred)"
   ]
  },
  {
   "cell_type": "code",
   "execution_count": 167,
   "metadata": {
    "slideshow": {
     "slide_type": "subslide"
    }
   },
   "outputs": [
    {
     "data": {
      "text/html": [
       "[Text(0, 0, 'Rejected'), Text(0, 0, 'Approved')]"
      ],
      "text/plain": [
       "[Text(0, 0, 'Rejected'), Text(0, 0, 'Approved')]"
      ]
     },
     "execution_count": 167,
     "metadata": {},
     "output_type": "execute_result"
    },
    {
     "data": {
      "image/png": "[encoded data removed]",
      "text/plain": [
       "<Figure size 1440x504 with 2 Axes>"
      ]
     },
     "metadata": {},
     "output_type": "display_data"
    }
   ],
   "source": [
    "fig, ax = plt.subplots(1,2)\n",
    "a = sn.countplot(y_valid, ax=ax[0]); a.set_title(\"TRAINING DATA\"); a.set_xticklabels([\"Rejected\", \"Approved\"])\n",
    "a = sn.countplot(y_prod, ax=ax[1]); a.set_title(\"PRODUCTION\"); a.set_xticklabels([\"Rejected\", \"Approved\"])"
   ]
  },
  {
   "cell_type": "markdown",
   "metadata": {
    "slideshow": {
     "slide_type": "slide"
    }
   },
   "source": [
    "# Undesired bias and explainability\n",
    "\n",
    "<br>\n",
    "\n",
    "<img src=\"https://i.imgflip.com/33o3on.gif\" style=\"height: 50vh\">\n",
    "\n",
    "<br>\n",
    "\n",
    "#### We have seen several examples where undesired biases have led to undesired results. In critical usecases, this may have impact of multiple generations.\n",
    "\n",
    "<br><br><br>\n",
    "\n",
    "\n",
    "<br><br><br>"
   ]
  },
  {
   "cell_type": "markdown",
   "metadata": {
    "slideshow": {
     "slide_type": "subslide"
    }
   },
   "source": [
    "# Undesired bias and explainability\n",
    "\n",
    "<br>\n",
    "\n",
    "* Has become popular due to several high profile incidents:\n",
    "\n",
    "    * Amazon's \"sexist\" recruitment tool\n",
    "    * Microsoft's \"racist\" chatbot\n",
    "    * Negative discrimination in automated sentencing\n",
    "    * Black box models + complex patterns can't be interpretable\n",
    "\n",
    "<br>\n",
    "<br>\n",
    "\n",
    "\n",
    "## Organisations cannot take on unknown risks\n"
   ]
  },
  {
   "cell_type": "markdown",
   "metadata": {
    "slideshow": {
     "slide_type": "subslide"
    }
   },
   "source": [
    "# This challenge goes beyond the algorithms\n",
    "\n",
    "<br>\n",
    "\n",
    "### A large ethical decision should not just fall on the shoulders of a single data scientist\n",
    "\n",
    "<br>\n",
    "\n",
    "<img src=\"images/chart.png\" style=\"height:30vw;margin-left: 10vw; float: left; background-color: transparent\">\n",
    "<img src=\"images/chart-more.png\" style=\"height:30vw; margin-left: 10vw; float: left;  background-color: transparent\">\n",
    "\n",
    "<br><br><br>\n",
    "\n",
    "\n",
    "<br><br><br>"
   ]
  },
  {
   "cell_type": "markdown",
   "metadata": {
    "slideshow": {
     "slide_type": "subslide"
    }
   },
   "source": [
    "# Who's ethics?\n",
    "<br>\n",
    "\n",
    "### An analysis of eastern and western philosophy, in respect to AI Ethics\n",
    "\n",
    "<br>\n",
    "\n",
    "<div style=\"float: left; width: 50%\">\n",
    "<img style=\"\" src=\"images/philosophers.jpg\">\n",
    "</div>\n",
    "\n",
    "<div style=\"float: left; width: 50%\">\n",
    "<img src=\"images/whos-ethics.jpg\">\n",
    "</div>"
   ]
  },
  {
   "cell_type": "markdown",
   "metadata": {
    "slideshow": {
     "slide_type": "subslide"
    }
   },
   "source": [
    "# Stages where bias can appear\n",
    "\n",
    "<br>\n",
    "<br>\n",
    "\n",
    "## 1) Statistical bias (During the project)\n",
    "\n",
    "##### Sub-optimal choices on decisions after project starts (models, metrics, human-in-the-loop, infrastructure design, etc)\n",
    "\n",
    "<br>\n",
    "<br>\n",
    "\n",
    "## 2) A-priori bias (Before the project)\n",
    "\n",
    "##### Limitations around the project that constrain the best possible outcome (limited time, budget, data, societal shifts in perception, etc)\n",
    "\n",
    "<br><br>"
   ]
  },
  {
   "cell_type": "markdown",
   "metadata": {
    "slideshow": {
     "slide_type": "subslide"
    }
   },
   "source": [
    "# Not as easy as just \"removing bias\"\n",
    "\n",
    "<br>\n",
    "<br>\n",
    "\n",
    "* Any non trivial decision holds a bias, without exceptions - unless you build a classifier that only predicts \"maybe\".\n",
    "* It's impossible to \"just remove bias\" (as the whole purpose of ML is to discriminate towards the right answer)\n",
    "* Societal bias carries an inherent bias - what may be \"racist\" for one person, may not be for another group or geography\n",
    "\n",
    "<br>\n",
    "<br>\n",
    "\n",
    "#### Emphasis on last point: Societal bias is inherently biased\n",
    "\n",
    "<br><br><br>"
   ]
  },
  {
   "cell_type": "markdown",
   "metadata": {
    "slideshow": {
     "slide_type": "subslide"
    }
   },
   "source": [
    "# What it's about: Mitigating undesired bias through process and explainability techniques\n",
    "\n",
    "<br><br><br>\n",
    "\n",
    "* Like in cybersecurity, it's impossible to build a system that will never be hacked\n",
    "* But it's possible to build a system and introduce processes that ensure a reasonable level of security\n",
    "* Similarly we want to introduce processes that allow us to remove a reasonable level of undesired biases\n",
    "* This is going 0 to 1, trying to introduce a foundation for undesired bias\n",
    "\n",
    "<br><br><br>\n"
   ]
  },
  {
   "cell_type": "markdown",
   "metadata": {
    "slideshow": {
     "slide_type": "subslide"
    }
   },
   "source": [
    "# Principles, Standards & Regulation\n",
    "\n",
    "### github.com/EthicalML/awesome-artificial-intelligence-guidelines\n",
    "\n",
    "<img src=\"images/guidelines.jpg\">\n",
    "<br>\n"
   ]
  },
  {
   "cell_type": "markdown",
   "metadata": {
    "slideshow": {
     "slide_type": "subslide"
    }
   },
   "source": [
    "# Remember our workflow? Let's add three new steps:\n",
    "\n",
    "<br>\n",
    "\n",
    "<img src=\"images/mlall.png\" style=\"width=100vw\">"
   ]
  },
  {
   "cell_type": "markdown",
   "metadata": {
    "slideshow": {
     "slide_type": "subslide"
    }
   },
   "source": [
    "# Augmenting the data science workflow\n",
    "\n",
    "<br>\n",
    "\n",
    "<img src=\"images/gml.png\" style=\"width=100vw\">\n",
    "\n",
    "\n",
    "<br><br><br>\n",
    "\n",
    "<hr>\n",
    "\n",
    "<br><br><br>"
   ]
  },
  {
   "cell_type": "markdown",
   "metadata": {
    "slideshow": {
     "slide_type": "subslide"
    }
   },
   "source": [
    "## The explainability tradeoff\n",
    "\n",
    "\n",
    "<br>\n",
    "\n",
    "By making introducing processes that allow us to mitigate undesired bias and increase explainability, we face severall tradeoffs:\n",
    "\n",
    "\n",
    "<br>\n",
    "\n",
    "* More redtape introduced\n",
    "\n",
    "<br>\n",
    "\n",
    "* Potentially lower accuracy \n",
    "\n",
    "<br>\n",
    "\n",
    "* Constrains on models that can be used\n",
    "\n",
    "<br>\n",
    "\n",
    "* Increase in infrastructure complexity\n",
    "\n",
    "<br>\n",
    "\n",
    "* Requirement of domain expert knowledge intersection\n",
    "\n",
    "<br>\n",
    "\n",
    "#### The amount of explainability and process is proportionate to the impact of the project (prototype vs prod)"
   ]
  },
  {
   "cell_type": "markdown",
   "metadata": {
    "slideshow": {
     "slide_type": "slide"
    }
   },
   "source": [
    "# 1) Data Analysis\n",
    "\n",
    "<br><br><br>\n",
    "\n",
    "<hr>\n",
    "\n",
    "<br><br><br>"
   ]
  },
  {
   "cell_type": "markdown",
   "metadata": {
    "slideshow": {
     "slide_type": "subslide"
    }
   },
   "source": [
    "# XAI - eXplainable AI \n",
    "\n",
    "<br>\n",
    "\n",
    "## A set of tools to explain machine learning data\n",
    "\n",
    "<br>\n",
    "\n",
    "<img src=\"images/xai.jpg\" style=\"width=100vw\">\n",
    "\n",
    "<br>\n",
    "\n",
    "## https://github.com/EthicalML/XAI\n",
    "\n",
    "\n",
    "<br><br><br>\n",
    "\n",
    "<hr>"
   ]
  },
  {
   "cell_type": "markdown",
   "metadata": {
    "slideshow": {
     "slide_type": "subslide"
    }
   },
   "source": [
    "## Let's get the new training dataset"
   ]
  },
  {
   "cell_type": "code",
   "execution_count": 168,
   "metadata": {
    "slideshow": {
     "slide_type": "-"
    }
   },
   "outputs": [
    {
     "data": {
      "text/html": [
       "<div>\n",
       "<style scoped>\n",
       "    .dataframe tbody tr th:only-of-type {\n",
       "        vertical-align: middle;\n",
       "    }\n",
       "\n",
       "    .dataframe tbody tr th {\n",
       "        vertical-align: top;\n",
       "    }\n",
       "\n",
       "    .dataframe thead th {\n",
       "        text-align: right;\n",
       "    }\n",
       "</style>\n",
       "<table border=\"1\" class=\"dataframe\">\n",
       "  <thead>\n",
       "    <tr style=\"text-align: right;\">\n",
       "      <th></th>\n",
       "      <th>age</th>\n",
       "      <th>workclass</th>\n",
       "      <th>education</th>\n",
       "      <th>education-num</th>\n",
       "      <th>marital-status</th>\n",
       "      <th>occupation</th>\n",
       "      <th>relationship</th>\n",
       "      <th>ethnicity</th>\n",
       "      <th>gender</th>\n",
       "      <th>capital-gain</th>\n",
       "      <th>capital-loss</th>\n",
       "      <th>hours-per-week</th>\n",
       "      <th>native-country</th>\n",
       "      <th>loan</th>\n",
       "    </tr>\n",
       "  </thead>\n",
       "  <tbody>\n",
       "    <tr>\n",
       "      <td>0</td>\n",
       "      <td>39</td>\n",
       "      <td>State-gov</td>\n",
       "      <td>Bachelors</td>\n",
       "      <td>13</td>\n",
       "      <td>Never-married</td>\n",
       "      <td>Adm-clerical</td>\n",
       "      <td>Not-in-family</td>\n",
       "      <td>White</td>\n",
       "      <td>Male</td>\n",
       "      <td>2174</td>\n",
       "      <td>0</td>\n",
       "      <td>40</td>\n",
       "      <td>United-States</td>\n",
       "      <td>False</td>\n",
       "    </tr>\n",
       "    <tr>\n",
       "      <td>1</td>\n",
       "      <td>50</td>\n",
       "      <td>Self-emp-not-inc</td>\n",
       "      <td>Bachelors</td>\n",
       "      <td>13</td>\n",
       "      <td>Married-civ-spouse</td>\n",
       "      <td>Exec-managerial</td>\n",
       "      <td>Husband</td>\n",
       "      <td>White</td>\n",
       "      <td>Male</td>\n",
       "      <td>0</td>\n",
       "      <td>0</td>\n",
       "      <td>13</td>\n",
       "      <td>United-States</td>\n",
       "      <td>False</td>\n",
       "    </tr>\n",
       "    <tr>\n",
       "      <td>2</td>\n",
       "      <td>38</td>\n",
       "      <td>Private</td>\n",
       "      <td>HS-grad</td>\n",
       "      <td>9</td>\n",
       "      <td>Divorced</td>\n",
       "      <td>Handlers-cleaners</td>\n",
       "      <td>Not-in-family</td>\n",
       "      <td>White</td>\n",
       "      <td>Male</td>\n",
       "      <td>0</td>\n",
       "      <td>0</td>\n",
       "      <td>40</td>\n",
       "      <td>United-States</td>\n",
       "      <td>False</td>\n",
       "    </tr>\n",
       "    <tr>\n",
       "      <td>3</td>\n",
       "      <td>53</td>\n",
       "      <td>Private</td>\n",
       "      <td>11th</td>\n",
       "      <td>7</td>\n",
       "      <td>Married-civ-spouse</td>\n",
       "      <td>Handlers-cleaners</td>\n",
       "      <td>Husband</td>\n",
       "      <td>Black</td>\n",
       "      <td>Male</td>\n",
       "      <td>0</td>\n",
       "      <td>0</td>\n",
       "      <td>40</td>\n",
       "      <td>United-States</td>\n",
       "      <td>False</td>\n",
       "    </tr>\n",
       "    <tr>\n",
       "      <td>4</td>\n",
       "      <td>28</td>\n",
       "      <td>Private</td>\n",
       "      <td>Bachelors</td>\n",
       "      <td>13</td>\n",
       "      <td>Married-civ-spouse</td>\n",
       "      <td>Prof-specialty</td>\n",
       "      <td>Wife</td>\n",
       "      <td>Black</td>\n",
       "      <td>Female</td>\n",
       "      <td>0</td>\n",
       "      <td>0</td>\n",
       "      <td>40</td>\n",
       "      <td>Cuba</td>\n",
       "      <td>False</td>\n",
       "    </tr>\n",
       "  </tbody>\n",
       "</table>\n",
       "</div>"
      ],
      "text/plain": [
       "   age          workclass   education  education-num       marital-status  \\\n",
       "0   39          State-gov   Bachelors             13        Never-married   \n",
       "1   50   Self-emp-not-inc   Bachelors             13   Married-civ-spouse   \n",
       "2   38            Private     HS-grad              9             Divorced   \n",
       "3   53            Private        11th              7   Married-civ-spouse   \n",
       "4   28            Private   Bachelors             13   Married-civ-spouse   \n",
       "\n",
       "           occupation    relationship ethnicity   gender  capital-gain  \\\n",
       "0        Adm-clerical   Not-in-family     White     Male          2174   \n",
       "1     Exec-managerial         Husband     White     Male             0   \n",
       "2   Handlers-cleaners   Not-in-family     White     Male             0   \n",
       "3   Handlers-cleaners         Husband     Black     Male             0   \n",
       "4      Prof-specialty            Wife     Black   Female             0   \n",
       "\n",
       "   capital-loss  hours-per-week  native-country   loan  \n",
       "0             0              40   United-States  False  \n",
       "1             0              13   United-States  False  \n",
       "2             0              40   United-States  False  \n",
       "3             0              40   United-States  False  \n",
       "4             0              40            Cuba  False  "
      ]
     },
     "execution_count": 168,
     "metadata": {},
     "output_type": "execute_result"
    }
   ],
   "source": [
    "X, y, X_train, X_valid, y_train, y_valid, X_display, y_display, df, df_display \\\n",
    "    = get_dataset_2()\n",
    "df_display.head()"
   ]
  },
  {
   "cell_type": "markdown",
   "metadata": {
    "slideshow": {
     "slide_type": "subslide"
    }
   },
   "source": [
    "## 1.1) Visualising complex data imbalances\n",
    "#### We may be able to identify an imbalance of examples for a specific class"
   ]
  },
  {
   "cell_type": "code",
   "execution_count": 169,
   "metadata": {
    "slideshow": {
     "slide_type": "-"
    }
   },
   "outputs": [
    {
     "data": {
      "image/png": "[encoded data removed]",
      "text/plain": [
       "<Figure size 1440x504 with 1 Axes>"
      ]
     },
     "metadata": {},
     "output_type": "display_data"
    }
   ],
   "source": [
    "im = xai.imbalance_plot(df_display, \"gender\", \"loan\" , categorical_cols=[\"loan\", \"gender\"])"
   ]
  },
  {
   "cell_type": "markdown",
   "metadata": {
    "slideshow": {
     "slide_type": "subslide"
    }
   },
   "source": [
    "## 1.2) Upsampling / Downsampling of data imbalances\n",
    "#### We can re-balance the metrics for imbalanced datasets, but we need to understand what this actually means"
   ]
  },
  {
   "cell_type": "code",
   "execution_count": 170,
   "metadata": {
    "slideshow": {
     "slide_type": "-"
    }
   },
   "outputs": [
    {
     "data": {
      "image/png": "[encoded data removed]",
      "text/plain": [
       "<Figure size 1440x504 with 1 Axes>"
      ]
     },
     "metadata": {},
     "output_type": "display_data"
    }
   ],
   "source": [
    "im = xai.balance(df_display, \"gender\", \"loan\", categorical_cols=[\"gender\", \"loan\"],\n",
    "                upsample=0.5, downsample=0.8)"
   ]
  },
  {
   "cell_type": "markdown",
   "metadata": {
    "slideshow": {
     "slide_type": "subslide"
    }
   },
   "source": [
    "## 1.2) Balanced testing / validation datasets"
   ]
  },
  {
   "cell_type": "code",
   "execution_count": 171,
   "metadata": {
    "slideshow": {
     "slide_type": "-"
    }
   },
   "outputs": [
    {
     "data": {
      "image/png": "[encoded data removed]",
      "text/plain": [
       "<Figure size 1440x504 with 1 Axes>"
      ]
     },
     "metadata": {},
     "output_type": "display_data"
    }
   ],
   "source": [
    "X_train_balanced, y_train_balanced, X_valid_balanced, y_valid_balanced, train_idx, test_idx = \\\n",
    "    xai.balanced_train_test_split(\n",
    "            X, y, \"gender\", \n",
    "            min_per_group=300,\n",
    "            max_per_group=300,\n",
    "            categorical_cols=[\"gender\", \"loan\"])\n",
    "\n",
    "X_valid_balanced[\"loan\"] = y_valid_balanced\n",
    "im = xai.imbalance_plot(X_valid_balanced, \"gender\", \"loan\", categorical_cols=[\"gender\", \"loan\"])"
   ]
  },
  {
   "cell_type": "markdown",
   "metadata": {
    "slideshow": {
     "slide_type": "subslide"
    }
   },
   "source": [
    "## 1.4 Correlations hidden in data\n",
    "#### We can identify potential correlations across variables through a dendogram visualiation"
   ]
  },
  {
   "cell_type": "code",
   "execution_count": 172,
   "metadata": {
    "slideshow": {
     "slide_type": "-"
    }
   },
   "outputs": [
    {
     "name": "stderr",
     "output_type": "stream",
     "text": [
      "/home/alejandro/miniconda3/envs/reddit-classification/lib/python3.7/site-packages/scipy/stats/stats.py:248: RuntimeWarning: The input array could not be properly checked for nan values. nan values will be ignored.\n",
      "  \"values. nan values will be ignored.\", RuntimeWarning)\n"
     ]
    },
    {
     "data": {
      "image/png": "[encoded data removed]",
      "text/plain": [
       "<Figure size 1440x504 with 1 Axes>"
      ]
     },
     "metadata": {},
     "output_type": "display_data"
    }
   ],
   "source": [
    "corr = xai.correlations(df_display, include_categorical=True)"
   ]
  },
  {
   "cell_type": "markdown",
   "metadata": {
    "slideshow": {
     "slide_type": "subslide"
    }
   },
   "source": [
    "## 1.5 Shoutout to other tools and techniques\n",
    "https://github.com/EthicalML/awesome-production-machine-learning#industrial-strength-visualisation-libraries\n",
    "![](images/dataviz.jpg)"
   ]
  },
  {
   "cell_type": "markdown",
   "metadata": {
    "slideshow": {
     "slide_type": "slide"
    }
   },
   "source": [
    "# 2) Model evaluation\n",
    "\n",
    "<br><br><br>\n",
    "\n",
    "<hr>\n",
    "\n",
    "<br><br><br>"
   ]
  },
  {
   "cell_type": "markdown",
   "metadata": {
    "slideshow": {
     "slide_type": "subslide"
    }
   },
   "source": [
    "# Alibi - Black Box Model Explanations\n",
    "\n",
    "<br>\n",
    "\n",
    "## A set of proven scientific techniques to explain ML models as black boxes\n",
    "\n",
    "<br>\n",
    "\n",
    "<img src=\"images/alibi-repo-new.jpg\" style=\"width=100vw\">\n",
    "\n",
    "<br>\n",
    "\n",
    "## https://github.com/SeldonIO/Alibi\n",
    "\n",
    "\n",
    "<br><br><br>\n",
    "\n",
    "<hr>"
   ]
  },
  {
   "cell_type": "markdown",
   "metadata": {
    "slideshow": {
     "slide_type": "subslide"
    }
   },
   "source": [
    "# Model Evaluation Metrics: White / Black Box\n",
    "\n",
    "![](images/whiteblackbox.jpg)"
   ]
  },
  {
   "cell_type": "markdown",
   "metadata": {
    "slideshow": {
     "slide_type": "subslide"
    }
   },
   "source": [
    "# Model Evaluation Metrics: Global vs Local\n",
    "\n",
    "![](images/globallocal.jpg)"
   ]
  },
  {
   "cell_type": "markdown",
   "metadata": {
    "slideshow": {
     "slide_type": "subslide"
    }
   },
   "source": [
    "# Local black box model evaluation metrics with Alibi\n",
    "\n",
    "### Overview of methods\n",
    "\n",
    "![](images/alibi-table.jpg)"
   ]
  },
  {
   "cell_type": "markdown",
   "metadata": {
    "slideshow": {
     "slide_type": "subslide"
    }
   },
   "source": [
    "# Anchors \n",
    "\n",
    "<br>\n",
    "\n",
    "#### Consists of if-then rules, called the anchors, which sufficiently guarantee the explanation locally and try to maximize the area for which the explanation holds. (ArXiv: Anchors: High-Precision Model-Agnostic Explanations)\n",
    "\n",
    "<br>\n",
    "\n",
    "<div style=\"float: left; width: 50%\">\n",
    "<img src=\"images/textanchor.jpg\">\n",
    "</div>\n",
    "\n",
    "<div style=\"float: left; width: 50%\">\n",
    "<img src=\"images/anchorimage.jpg\">\n",
    "</div>"
   ]
  },
  {
   "cell_type": "markdown",
   "metadata": {
    "slideshow": {
     "slide_type": "subslide"
    }
   },
   "source": [
    "## Let's first train our model with the new, more reasonable dataset"
   ]
  },
  {
   "cell_type": "code",
   "execution_count": 173,
   "metadata": {
    "slideshow": {
     "slide_type": "-"
    }
   },
   "outputs": [
    {
     "data": {
      "image/png": "[encoded data removed]",
      "text/plain": [
       "<Figure size 864x576 with 2 Axes>"
      ]
     },
     "metadata": {},
     "output_type": "display_data"
    },
    {
     "name": "stdout",
     "output_type": "stream",
     "text": [
      "Log-loss (cost function):\n",
      "training   (min:    0.311, max:    0.587, cur:    0.311)\n",
      "validation (min:    0.312, max:    0.476, cur:    0.312)\n",
      "\n",
      "Accuracy:\n",
      "training   (min:    0.735, max:    0.857, cur:    0.855)\n",
      "validation (min:    0.794, max:    0.857, cur:    0.857)\n"
     ]
    }
   ],
   "source": [
    "# Let's start by building our model with our newly balanced dataset\n",
    "model = build_model(X)\n",
    "model.fit(f_in(X_train), y_train, epochs=20, batch_size=512, shuffle=True, validation_data=(f_in(X_valid), y_valid), callbacks=[PlotLossesKeras()], verbose=0, validation_split=0.05,)\n",
    "probabilities = model.predict(f_in(X_valid))\n",
    "pred = f_out(probabilities)"
   ]
  },
  {
   "cell_type": "markdown",
   "metadata": {
    "slideshow": {
     "slide_type": "subslide"
    }
   },
   "source": [
    "## We can now use the Tabular Anchor technique in Alibi"
   ]
  },
  {
   "cell_type": "code",
   "execution_count": 174,
   "metadata": {
    "slideshow": {
     "slide_type": "-"
    }
   },
   "outputs": [
    {
     "name": "stdout",
     "output_type": "stream",
     "text": [
      "Explainer built\n"
     ]
    }
   ],
   "source": [
    "from alibi.explainers import AnchorTabular\n",
    "\n",
    "explainer = AnchorTabular(\n",
    "    loan_model_alibi.predict, \n",
    "    feature_names_alibi, \n",
    "    categorical_names=category_map_alibi)\n",
    "\n",
    "explainer.fit(\n",
    "    X_train_alibi, \n",
    "    disc_perc=[25, 50, 75])\n",
    "\n",
    "print(\"Explainer built\")"
   ]
  },
  {
   "cell_type": "code",
   "execution_count": 175,
   "metadata": {
    "slideshow": {
     "slide_type": "subslide"
    }
   },
   "outputs": [
    {
     "data": {
      "text/plain": [
       "array([[52,  4,  0,  2,  8,  4,  2,  0,  0,  0, 60,  9]])"
      ]
     },
     "execution_count": 175,
     "metadata": {},
     "output_type": "execute_result"
    }
   ],
   "source": [
    "X_test_alibi[:1] "
   ]
  },
  {
   "cell_type": "code",
   "execution_count": 176,
   "metadata": {
    "slideshow": {
     "slide_type": "-"
    }
   },
   "outputs": [
    {
     "name": "stdout",
     "output_type": "stream",
     "text": [
      "Anchor: Marital Status = Separated AND Sex = Female\n",
      "Precision: 0.97\n",
      "Coverage: 0.11\n"
     ]
    }
   ],
   "source": [
    "explanation = explainer.explain(X_test_alibi[:1], threshold=0.95)\n",
    "\n",
    "print('Anchor: %s' % (' AND '.join(explanation['names'])))\n",
    "print('Precision: %.2f' % explanation['precision'])\n",
    "print('Coverage: %.2f' % explanation['coverage'])"
   ]
  },
  {
   "cell_type": "markdown",
   "metadata": {
    "slideshow": {
     "slide_type": "subslide"
    }
   },
   "source": [
    "# Counterfactual Explanations\n",
    "\n",
    "### The counterfactual explanation of an outcome or a situation Y takes the form “If X had not occured, Y would not have occured” \n",
    "\n",
    "![](images/counterfactuals7.jpg)"
   ]
  },
  {
   "cell_type": "markdown",
   "metadata": {
    "slideshow": {
     "slide_type": "subslide"
    }
   },
   "source": [
    "### We load a convolutional neural network\n",
    "#### Explainability techniques work with any classifier"
   ]
  },
  {
   "cell_type": "code",
   "execution_count": 177,
   "metadata": {
    "slideshow": {
     "slide_type": "-"
    }
   },
   "outputs": [
    {
     "data": {
      "image/png": "[encoded data removed]",
      "text/plain": [
       "<Figure size 1440x504 with 1 Axes>"
      ]
     },
     "metadata": {},
     "output_type": "display_data"
    }
   ],
   "source": [
    "cnn = load_model('mnist_cnn.h5')\n",
    "cf_X = cf_x_test[0].reshape((1,) + cf_x_test[0].shape)\n",
    "plt.imshow(cf_X.reshape(28, 28));"
   ]
  },
  {
   "cell_type": "markdown",
   "metadata": {
    "slideshow": {
     "slide_type": "subslide"
    }
   },
   "source": [
    "### Build a counterfactual explanation\n",
    "#### We can select the target class we want to aim for"
   ]
  },
  {
   "cell_type": "code",
   "execution_count": 178,
   "metadata": {
    "slideshow": {
     "slide_type": "-"
    }
   },
   "outputs": [
    {
     "name": "stdout",
     "output_type": "stream",
     "text": [
      "Counterfactual prediction: 9 with probability [2.8820663e-12 3.0502541e-11 5.0862967e-09 2.1951721e-06 3.9167953e-05\n",
      " 7.8527846e-06 2.6525455e-14 9.4558978e-05 7.3595431e-05 9.9978262e-01]\n"
     ]
    },
    {
     "data": {
      "image/png": "[encoded data removed]",
      "text/plain": [
       "<Figure size 1440x504 with 1 Axes>"
      ]
     },
     "metadata": {},
     "output_type": "display_data"
    }
   ],
   "source": [
    "shape = (1,) + cf_x_train.shape[1:]\n",
    "target_class = 9 # any class other than 7 will do\n",
    "\n",
    "cf = CounterFactual(cnn, shape=shape, target_class=target_class, target_proba=1.0, max_iter=20)\n",
    "explanation = cf.explain(cf_X)\n",
    "\n",
    "print(f\"Counterfactual prediction: {explanation['cf']['class']} with probability {explanation['cf']['proba'][0]}\")\n",
    "plt.imshow(explanation['cf']['X'].reshape(28, 28));"
   ]
  },
  {
   "cell_type": "code",
   "execution_count": 179,
   "metadata": {
    "slideshow": {
     "slide_type": "subslide"
    }
   },
   "outputs": [
    {
     "data": {
      "image/png": "[encoded data removed]",
      "text/plain": [
       "<Figure size 1152x432 with 10 Axes>"
      ]
     },
     "metadata": {},
     "output_type": "display_data"
    }
   ],
   "source": [
    "show_iterations(explanation)"
   ]
  },
  {
   "cell_type": "markdown",
   "metadata": {
    "slideshow": {
     "slide_type": "subslide"
    }
   },
   "source": [
    "# Improving computational efficiency\n",
    "\n",
    "### Our Data Science team at Seldon published a paper that tackles the issue.\n",
    "\n",
    "<img src=\"images/with-prototypes.jpg\" style=\"height: 80vh\">"
   ]
  },
  {
   "cell_type": "markdown",
   "metadata": {
    "slideshow": {
     "slide_type": "subslide"
    }
   },
   "source": [
    "### Intersection with Adversarial Robustness\n",
    "\n",
    "<br>\n",
    "\n",
    "* Black box explainability techniques allow us to understand black boxes\n",
    "\n",
    "<br>\n",
    "\n",
    "* But also provide tools that could be used maliciously\n",
    "\n",
    "<br>\n",
    "\n",
    "* Extra considerations need to be taken into account (i.e. when is a model \"being explained\")\n",
    "\n",
    "<br>\n",
    "\n",
    "* Limited access to explainability (auditors, domain experts, etc)\n",
    "\n",
    "<br>\n"
   ]
  },
  {
   "cell_type": "markdown",
   "metadata": {
    "slideshow": {
     "slide_type": "subslide"
    }
   },
   "source": [
    "## 1.5 Shoutout to other tools and techniques\n",
    "https://github.com/EthicalML/awesome-production-machine-learning#explaining-black-box-models-and-datasets\n",
    "![](images/modevallibs.jpg)"
   ]
  },
  {
   "cell_type": "markdown",
   "metadata": {
    "slideshow": {
     "slide_type": "slide"
    }
   },
   "source": [
    "# 3) Production Monitoring\n",
    "\n",
    "<br><br><br>\n",
    "\n",
    "<hr>\n",
    "\n",
    "<br><br><br>"
   ]
  },
  {
   "cell_type": "markdown",
   "metadata": {
    "slideshow": {
     "slide_type": "subslide"
    }
   },
   "source": [
    "# Seldon Core - Production ML in K8s\n",
    "\n",
    "<br>\n",
    "\n",
    "## A language agnostic ML serving & monitoring framework in Kubernetes\n",
    "\n",
    "<br>\n",
    "\n",
    "<img src=\"images/seldon-core-repo.jpg\" style=\"width=100vw\">\n",
    "\n",
    "<br>\n",
    "\n",
    "## https://github.com/SeldonIO/seldon-core\n",
    "\n",
    "\n",
    "<br><br><br>\n",
    "\n",
    "<hr>"
   ]
  },
  {
   "cell_type": "markdown",
   "metadata": {
    "slideshow": {
     "slide_type": "subslide"
    }
   },
   "source": [
    "# Design patterns for explainers\n",
    "\n",
    "#### Using Seldon Core for deployment, orchestration and monitoring\n",
    "\n",
    "<img src=\"images/prodxai-1.jpg\" style=\"height: 80vh\">"
   ]
  },
  {
   "cell_type": "markdown",
   "metadata": {
    "slideshow": {
     "slide_type": "subslide"
    }
   },
   "source": [
    "# Deploy model\n",
    "\n",
    "#### We first deploy our model\n",
    "\n",
    "<img src=\"images/prodxai-2.jpg\" style=\"height: 80vh\">"
   ]
  },
  {
   "cell_type": "markdown",
   "metadata": {
    "slideshow": {
     "slide_type": "subslide"
    }
   },
   "source": [
    "# Request predictions\n",
    "\n",
    "#### We can send http request to get a prediction\n",
    "\n",
    "<img src=\"images/prodxai-3.jpg\" style=\"height: 80vh\">"
   ]
  },
  {
   "cell_type": "markdown",
   "metadata": {
    "slideshow": {
     "slide_type": "subslide"
    }
   },
   "source": [
    "# Deploy explainer\n",
    "\n",
    "#### We then would be able ot wrap and deploy the explainer\n",
    "\n",
    "<img src=\"images/prodxai-4a.jpg\" style=\"height: 80vh\">"
   ]
  },
  {
   "cell_type": "markdown",
   "metadata": {
    "slideshow": {
     "slide_type": "subslide"
    }
   },
   "source": [
    "# Request explanations\n",
    "\n",
    "#### We can then send http requsests to the explainer, which sends http requests to the model to reverse engineer it\n",
    "\n",
    "<img src=\"images/prodxai-5a.jpg\" style=\"height: 80vh\">"
   ]
  },
  {
   "cell_type": "markdown",
   "metadata": {
    "slideshow": {
     "slide_type": "subslide"
    }
   },
   "source": [
    "## Setup Seldon in your kubernetes cluster\n",
    "#### We already have a kubernetes cluster running in our localhost but you can set it up locally\n",
    "\n",
    "<img src=\"images/clusterm.jpg\">"
   ]
  },
  {
   "cell_type": "code",
   "execution_count": null,
   "metadata": {
    "slideshow": {
     "slide_type": "skip"
    }
   },
   "outputs": [],
   "source": [
    "%%bash\n",
    "# kubectl create clusterrolebinding kube-system-cluster-admin --clusterrole=cluster-admin --serviceaccount=kube-system:default\n",
    "# helm init\n",
    "# kubectl rollout status deploy/tiller-deploy -n kube-system\n",
    "# helm install seldon-core-operator --name seldon-core-operator --repo https://storage.googleapis.com/seldon-charts --set engine.image.tag=0.4.1 --set image.tag=0.4.1\n",
    "# helm install seldon-core-analytics --name seldon-core-analytics --repo https://storage.googleapis.com/seldon-charts\n",
    "# helm install stable/ambassador --name ambassador\n",
    "\n",
    "\n",
    "# kubectl patch svc ambassador --type='json' -p '[{\"op\":\"replace\",\"path\":\"/spec/type\",\"value\":\"NodePort\"}]'"
   ]
  },
  {
   "cell_type": "code",
   "execution_count": null,
   "metadata": {
    "slideshow": {
     "slide_type": "skip"
    }
   },
   "outputs": [],
   "source": [
    "from sklearn.preprocessing import LabelEncoder, StandardScaler, OneHotEncoder\n",
    "from sklearn.impute import SimpleImputer\n",
    "from sklearn.pipeline import Pipeline\n",
    "from sklearn.compose import ColumnTransformer\n",
    "\n",
    "# feature transformation pipeline\n",
    "ordinal_features = [x for x in range(len(alibi_feature_names)) if x not in list(alibi_category_map.keys())]\n",
    "ordinal_transformer = Pipeline(steps=[('imputer', SimpleImputer(strategy='median')),\n",
    "                                      ('scaler', StandardScaler())])\n",
    "\n",
    "categorical_features = list(alibi_category_map.keys())\n",
    "categorical_transformer = Pipeline(steps=[('imputer', SimpleImputer(strategy='median')),\n",
    "                                          ('onehot', OneHotEncoder(handle_unknown='ignore'))])\n",
    "\n",
    "preprocessor = ColumnTransformer(transformers=[('num', ordinal_transformer, ordinal_features),\n",
    "                                               ('cat', categorical_transformer, categorical_features)])"
   ]
  },
  {
   "cell_type": "code",
   "execution_count": null,
   "metadata": {
    "slideshow": {
     "slide_type": "skip"
    }
   },
   "outputs": [],
   "source": [
    "preprocessor.fit(alibi_data)"
   ]
  },
  {
   "cell_type": "code",
   "execution_count": null,
   "metadata": {
    "slideshow": {
     "slide_type": "skip"
    }
   },
   "outputs": [],
   "source": [
    "from sklearn.ensemble import RandomForestClassifier\n",
    "\n",
    "np.random.seed(0)\n",
    "randomforest = RandomForestClassifier(n_estimators=50)\n",
    "randomforest.fit(preprocessor.transform(X_train_alibi), y_train_alibi)"
   ]
  },
  {
   "cell_type": "code",
   "execution_count": null,
   "metadata": {
    "slideshow": {
     "slide_type": "skip"
    }
   },
   "outputs": [],
   "source": [
    "!mkdir -p pipeline/pipeline_steps/loanclassifier/"
   ]
  },
  {
   "cell_type": "markdown",
   "metadata": {
    "slideshow": {
     "slide_type": "subslide"
    }
   },
   "source": [
    "### We have our loan classifier models\n",
    "#### Currently a random forest classifier and a preprocessor"
   ]
  },
  {
   "cell_type": "code",
   "execution_count": 180,
   "metadata": {},
   "outputs": [
    {
     "name": "stdout",
     "output_type": "stream",
     "text": [
      "Input: [[52  4  0  2  8  4  2  0  0  0 60  9]]\n",
      "Predicted class: [0]\n",
      "Probabilities: [[0.86 0.14]]\n"
     ]
    }
   ],
   "source": [
    "print(f\"Input: {X_test_alibi[:1]}\")\n",
    "print(f\"Predicted class: {randomforest.predict(preprocessor.transform(X_test_alibi[:1]))}\")\n",
    "print(f\"Probabilities: {randomforest.predict_proba(preprocessor.transform(X_test_alibi[:1]))}\")"
   ]
  },
  {
   "cell_type": "markdown",
   "metadata": {
    "slideshow": {
     "slide_type": "subslide"
    }
   },
   "source": [
    "#### Save the model artefacts so we can deploy them"
   ]
  },
  {
   "cell_type": "code",
   "execution_count": null,
   "metadata": {
    "slideshow": {
     "slide_type": "-"
    }
   },
   "outputs": [],
   "source": [
    "import dill\n",
    "\n",
    "with open(\"pipeline/pipeline_steps/loanclassifier/preprocessor.dill\", \"wb\") as prep_f:\n",
    "    dill.dump(preprocessor, prep_f)\n",
    "    \n",
    "with open(\"pipeline/pipeline_steps/loanclassifier/model.dill\", \"wb\") as model_f:\n",
    "    dill.dump(randomforest, model_f)"
   ]
  },
  {
   "cell_type": "markdown",
   "metadata": {
    "slideshow": {
     "slide_type": "subslide"
    }
   },
   "source": [
    "#### Build a Model wrapper that uses the trained models through a predict function"
   ]
  },
  {
   "cell_type": "code",
   "execution_count": null,
   "metadata": {},
   "outputs": [],
   "source": [
    "%%writefile pipeline/pipeline_steps/loanclassifier/Model.py\n",
    "import dill\n",
    "\n",
    "class Model:\n",
    "    def __init__(self, *args, **kwargs):\n",
    "        \n",
    "        with open(\"preprocessor.dill\", \"rb\") as prep_f:\n",
    "            self.preprocessor = dill.load(prep_f)\n",
    "        with open(\"model.dill\", \"rb\") as model_f:\n",
    "            self.clf = dill.load(model_f)\n",
    "        \n",
    "    def predict(self, X, feature_names=[]):\n",
    "        X_prep = self.preprocessor.transform(X)\n",
    "        proba = self.clf.predict_proba(X_prep)\n",
    "        return proba"
   ]
  },
  {
   "cell_type": "markdown",
   "metadata": {
    "slideshow": {
     "slide_type": "subslide"
    }
   },
   "source": [
    "#### Add the dependencies for the wrapper to work"
   ]
  },
  {
   "cell_type": "code",
   "execution_count": 181,
   "metadata": {},
   "outputs": [
    {
     "name": "stdout",
     "output_type": "stream",
     "text": [
      "Overwriting pipeline/pipeline_steps/loanclassifier/requirements.txt\n"
     ]
    }
   ],
   "source": [
    "%%writefile pipeline/pipeline_steps/loanclassifier/requirements.txt\n",
    "dill==0.2.9\n",
    "scikit-image==0.15.0\n",
    "scikit-learn==0.20.1\n",
    "scipy==1.1.0\n",
    "numpy==1.17.1"
   ]
  },
  {
   "cell_type": "code",
   "execution_count": null,
   "metadata": {
    "slideshow": {
     "slide_type": "skip"
    }
   },
   "outputs": [],
   "source": [
    "!mkdir pipeline/pipeline_steps/loanclassifier/.s2i"
   ]
  },
  {
   "cell_type": "code",
   "execution_count": null,
   "metadata": {
    "slideshow": {
     "slide_type": "skip"
    }
   },
   "outputs": [],
   "source": [
    "%%writefile pipeline/pipeline_steps/loanclassifier/.s2i/environment\n",
    "MODEL_NAME=Model\n",
    "API_TYPE=REST\n",
    "SERVICE_TYPE=MODEL\n",
    "PERSISTENCE=0"
   ]
  },
  {
   "cell_type": "markdown",
   "metadata": {
    "slideshow": {
     "slide_type": "subslide"
    }
   },
   "source": [
    "#### Use the source2image command to containerize code"
   ]
  },
  {
   "cell_type": "code",
   "execution_count": null,
   "metadata": {
    "scrolled": true,
    "slideshow": {
     "slide_type": "-"
    }
   },
   "outputs": [],
   "source": [
    "!s2i build pipeline/pipeline_steps/loanclassifier seldonio/seldon-core-s2i-python3:0.11 loanclassifier:0.1"
   ]
  },
  {
   "cell_type": "markdown",
   "metadata": {
    "slideshow": {
     "slide_type": "subslide"
    }
   },
   "source": [
    "#### Define the graph of your pipeline with individual models"
   ]
  },
  {
   "cell_type": "code",
   "execution_count": null,
   "metadata": {
    "slideshow": {
     "slide_type": "-"
    }
   },
   "outputs": [],
   "source": [
    "%%writefile pipeline/pipeline_steps/loanclassifier/loanclassifiermodel.yaml\n",
    "apiVersion: machinelearning.seldon.io/v1alpha2\n",
    "kind: SeldonDeployment\n",
    "metadata:\n",
    "  labels:\n",
    "    app: seldon\n",
    "  name: loanclassifier\n",
    "spec:\n",
    "  name: loanclassifier\n",
    "  predictors:\n",
    "  - componentSpecs:\n",
    "    - spec:\n",
    "        containers:\n",
    "        - image: loanclassifier:0.1\n",
    "          name: model\n",
    "    graph:\n",
    "      children: []\n",
    "      name: model\n",
    "      type: MODEL\n",
    "      endpoint:\n",
    "        type: REST\n",
    "    name: loanclassifier\n",
    "    replicas: 1"
   ]
  },
  {
   "cell_type": "markdown",
   "metadata": {
    "slideshow": {
     "slide_type": "subslide"
    }
   },
   "source": [
    "#### Deploy your model!"
   ]
  },
  {
   "cell_type": "code",
   "execution_count": 182,
   "metadata": {
    "slideshow": {
     "slide_type": "-"
    }
   },
   "outputs": [
    {
     "name": "stdout",
     "output_type": "stream",
     "text": [
      "seldondeployment.machinelearning.seldon.io/loanclassifier configured\r\n"
     ]
    }
   ],
   "source": [
    "!kubectl apply -f pipeline/pipeline_steps/loanclassifier/loanclassifiermodel.yaml"
   ]
  },
  {
   "cell_type": "markdown",
   "metadata": {
    "slideshow": {
     "slide_type": "subslide"
    }
   },
   "source": [
    "#### We can now send a request through HTTP"
   ]
  },
  {
   "cell_type": "code",
   "execution_count": 183,
   "metadata": {
    "slideshow": {
     "slide_type": "-"
    }
   },
   "outputs": [
    {
     "name": "stdout",
     "output_type": "stream",
     "text": [
      "[[52  4  0  2  8  4  2  0  0  0 60  9]]\n"
     ]
    }
   ],
   "source": [
    "batch = X_test_alibi[:1]\n",
    "print(batch)"
   ]
  },
  {
   "cell_type": "code",
   "execution_count": 184,
   "metadata": {
    "slideshow": {
     "slide_type": "-"
    }
   },
   "outputs": [
    {
     "name": "stdout",
     "output_type": "stream",
     "text": [
      "values {\n",
      "  list_value {\n",
      "    values {\n",
      "      number_value: 0.86\n",
      "    }\n",
      "    values {\n",
      "      number_value: 0.14\n",
      "    }\n",
      "  }\n",
      "}\n",
      "\n"
     ]
    }
   ],
   "source": [
    "from seldon_core.seldon_client import SeldonClient\n",
    "\n",
    "sc = SeldonClient(\n",
    "    gateway=\"ambassador\", \n",
    "    gateway_endpoint=\"localhost:80\",\n",
    "    deployment_name=\"loanclassifier\",\n",
    "    payload_type=\"ndarray\",\n",
    "    namespace=\"default\",\n",
    "    transport=\"rest\")\n",
    "\n",
    "client_prediction = sc.predict(data=batch)\n",
    "\n",
    "print(client_prediction.response.data.ndarray)"
   ]
  },
  {
   "cell_type": "markdown",
   "metadata": {
    "slideshow": {
     "slide_type": "subslide"
    }
   },
   "source": [
    "#### Now we can send data through the REST API"
   ]
  },
  {
   "cell_type": "code",
   "execution_count": 185,
   "metadata": {},
   "outputs": [
    {
     "name": "stdout",
     "output_type": "stream",
     "text": [
      "{\n",
      "  \"meta\": {\n",
      "    \"puid\": \"9naau11chptmvhgjapkng6a13r\",\n",
      "    \"tags\": {\n",
      "    },\n",
      "    \"routing\": {\n",
      "    },\n",
      "    \"requestPath\": {\n",
      "      \"model\": \"loanclassifier:0.1\"\n",
      "    },\n",
      "    \"metrics\": []\n",
      "  },\n",
      "  \"data\": {\n",
      "    \"names\": [\"t:0\", \"t:1\"],\n",
      "    \"ndarray\": [[0.86, 0.14]]\n",
      "  }\n",
      "}"
     ]
    },
    {
     "name": "stderr",
     "output_type": "stream",
     "text": [
      "  % Total    % Received % Xferd  Average Speed   Time    Time     Time  Current\n",
      "                                 Dload  Upload   Total   Spent    Left  Speed\n",
      "\r",
      "  0     0    0     0    0     0      0      0 --:--:-- --:--:-- --:--:--     0\r",
      "100   356  100   264  100    92  13200   4600 --:--:-- --:--:-- --:--:-- 18736\n"
     ]
    }
   ],
   "source": [
    "%%bash\n",
    "curl -X POST -H 'Content-Type: application/json' \\\n",
    "    -d \"{'data': {'names': ['text'], 'ndarray': [[52,  4,  0,  2,  8,  4,  2,  0,  0,  0, 60,  9]]}}\" \\\n",
    "    \"http://localhost:80/seldon/default/loanclassifier/api/v0.1/predictions\""
   ]
  },
  {
   "cell_type": "markdown",
   "metadata": {
    "slideshow": {
     "slide_type": "subslide"
    }
   },
   "source": [
    "#### Now we can create an explainer for our model"
   ]
  },
  {
   "cell_type": "code",
   "execution_count": 186,
   "metadata": {},
   "outputs": [
    {
     "name": "stdout",
     "output_type": "stream",
     "text": [
      "Anchor: Marital Status = Separated AND Sex = Female AND Relationship = Unmarried\n",
      "Precision: 0.99\n",
      "Coverage: 0.05\n"
     ]
    }
   ],
   "source": [
    "from alibi.explainers import AnchorTabular\n",
    "\n",
    "predict_fn = lambda x: randomforest.predict(preprocessor.transform(x))\n",
    "explainer = AnchorTabular(predict_fn, alibi_feature_names, categorical_names=alibi_category_map)\n",
    "explainer.fit(X_train_alibi, disc_perc=[25, 50, 75])\n",
    "\n",
    "explanation = explainer.explain(X_test_alibi[0], threshold=0.95)\n",
    "\n",
    "print('Anchor: %s' % (' AND '.join(explanation['names'])))\n",
    "print('Precision: %.2f' % explanation['precision'])\n",
    "print('Coverage: %.2f' % explanation['coverage'])"
   ]
  },
  {
   "cell_type": "markdown",
   "metadata": {
    "slideshow": {
     "slide_type": "subslide"
    }
   },
   "source": [
    "#### But now we can use the remote model we have in production"
   ]
  },
  {
   "cell_type": "code",
   "execution_count": null,
   "metadata": {
    "slideshow": {
     "slide_type": "-"
    }
   },
   "outputs": [],
   "source": [
    "def predict_remote_fn(X):\n",
    "    from seldon_core.seldon_client import SeldonClient\n",
    "    from seldon_core.utils import get_data_from_proto\n",
    "    \n",
    "    kwargs = {\n",
    "        \"gateway\": \"ambassador\", \n",
    "        \"deployment_name\": \"loanclassifier\",\n",
    "        \"payload_type\": \"ndarray\",\n",
    "        \"namespace\": \"default\",\n",
    "        \"transport\": \"rest\"\n",
    "    }\n",
    "    \n",
    "    try:\n",
    "        kwargs[\"gateway_endpoint\"] = \"localhost:80\"\n",
    "        sc = SeldonClient(**kwargs)\n",
    "        prediction = sc.predict(data=X)\n",
    "    except:\n",
    "        # If we are inside the container, we need to reach the ambassador service directly\n",
    "        kwargs[\"gateway_endpoint\"] = \"ambassador:80\"\n",
    "        sc = SeldonClient(**kwargs)\n",
    "        prediction = sc.predict(data=X)\n",
    "    \n",
    "    y = get_data_from_proto(prediction.response)\n",
    "    return y\n"
   ]
  },
  {
   "cell_type": "markdown",
   "metadata": {
    "slideshow": {
     "slide_type": "subslide"
    }
   },
   "source": [
    "#### And train our explainer to use the remote function"
   ]
  },
  {
   "cell_type": "code",
   "execution_count": 187,
   "metadata": {},
   "outputs": [
    {
     "name": "stdout",
     "output_type": "stream",
     "text": [
      "Anchor: Marital Status = Separated AND Sex = Female\n",
      "Precision: 0.98\n",
      "Coverage: 0.11\n"
     ]
    }
   ],
   "source": [
    "from seldon_core.utils import get_data_from_proto\n",
    "\n",
    "explainer = AnchorTabular(predict_remote_fn, alibi_feature_names, categorical_names=alibi_category_map)\n",
    "explainer.fit(X_train_alibi, disc_perc=[25, 50, 75])\n",
    "\n",
    "explanation = explainer.explain(batch, threshold=0.95)\n",
    "\n",
    "print('Anchor: %s' % (' AND '.join(explanation['names'])))\n",
    "print('Precision: %.2f' % explanation['precision'])\n",
    "print('Coverage: %.2f' % explanation['coverage'])"
   ]
  },
  {
   "cell_type": "markdown",
   "metadata": {
    "slideshow": {
     "slide_type": "subslide"
    }
   },
   "source": [
    "#### To containerise our explainer, save the trained binary\n"
   ]
  },
  {
   "cell_type": "code",
   "execution_count": null,
   "metadata": {
    "slideshow": {
     "slide_type": "-"
    }
   },
   "outputs": [],
   "source": [
    "import dill\n",
    "\n",
    "with open(\"pipeline/pipeline_steps/loanclassifier-explainer/explainer.dill\", \"wb\") as x_f:\n",
    "    dill.dump(explainer, x_f)"
   ]
  },
  {
   "cell_type": "markdown",
   "metadata": {
    "slideshow": {
     "slide_type": "subslide"
    }
   },
   "source": [
    "#### Expose it through a wrapper"
   ]
  },
  {
   "cell_type": "code",
   "execution_count": null,
   "metadata": {
    "slideshow": {
     "slide_type": "-"
    }
   },
   "outputs": [],
   "source": [
    "%%writefile pipeline/pipeline_steps/loanclassifier-explainer/Explainer.py\n",
    "import dill\n",
    "import json\n",
    "import numpy as np\n",
    "\n",
    "class Explainer:\n",
    "    def __init__(self, *args, **kwargs):\n",
    "        \n",
    "        with open(\"explainer.dill\", \"rb\") as x_f:\n",
    "            self.explainer = dill.load(x_f)\n",
    "        \n",
    "    def predict(self, X, feature_names=[]):\n",
    "        print(\"Received: \" + str(X))\n",
    "        explanation = self.explainer.explain(X)\n",
    "        print(\"Predicted: \" + str(explanation))\n",
    "        return json.dumps(explanation, cls=NumpyEncoder)\n",
    "\n",
    "    \n",
    "    \n",
    "    \n",
    "class NumpyEncoder(json.JSONEncoder):\n",
    "    def default(self, obj):\n",
    "        if isinstance(obj, (\n",
    "        np.int_, np.intc, np.intp, np.int8, np.int16, np.int32, np.int64, np.uint8, np.uint16, np.uint32, np.uint64)):\n",
    "            return int(obj)\n",
    "        elif isinstance(obj, (np.float_, np.float16, np.float32, np.float64)):\n",
    "            return float(obj)\n",
    "        elif isinstance(obj, (np.ndarray,)):\n",
    "            return obj.tolist()\n",
    "        return json.JSONEncoder.default(self, obj)"
   ]
  },
  {
   "cell_type": "code",
   "execution_count": null,
   "metadata": {
    "slideshow": {
     "slide_type": "skip"
    }
   },
   "outputs": [],
   "source": [
    "%%writefile pipeline/pipeline_steps/loanclassifier-explainer/requirements.txt\n",
    "scikit-learn==0.20.1\n",
    "alibi==0.3.0\n",
    "dill==0.2.9\n",
    "scikit-image==0.15.0\n",
    "scikit-learn==0.20.1\n",
    "scipy==1.1.0\n",
    "numpy==1.17.1"
   ]
  },
  {
   "cell_type": "code",
   "execution_count": null,
   "metadata": {
    "slideshow": {
     "slide_type": "skip"
    }
   },
   "outputs": [],
   "source": [
    "!mkdir pipeline/pipeline_steps/loanclassifier-explainer/.s2i"
   ]
  },
  {
   "cell_type": "code",
   "execution_count": null,
   "metadata": {
    "slideshow": {
     "slide_type": "skip"
    }
   },
   "outputs": [],
   "source": [
    "%%writefile pipeline/pipeline_steps/loanclassifier-explainer/.s2i/environment\n",
    "MODEL_NAME=Explainer\n",
    "API_TYPE=REST\n",
    "SERVICE_TYPE=MODEL\n",
    "PERSISTENCE=0"
   ]
  },
  {
   "cell_type": "markdown",
   "metadata": {
    "slideshow": {
     "slide_type": "subslide"
    }
   },
   "source": [
    "### Build the container for the explainer"
   ]
  },
  {
   "cell_type": "code",
   "execution_count": null,
   "metadata": {
    "scrolled": true,
    "slideshow": {
     "slide_type": "-"
    }
   },
   "outputs": [],
   "source": [
    "!s2i build pipeline/pipeline_steps/loanclassifier-explainer seldonio/seldon-core-s2i-python3:0.11 loanclassifier-explainer:0.1"
   ]
  },
  {
   "cell_type": "markdown",
   "metadata": {
    "slideshow": {
     "slide_type": "subslide"
    }
   },
   "source": [
    "#### Add config files to build image with script"
   ]
  },
  {
   "cell_type": "code",
   "execution_count": null,
   "metadata": {
    "slideshow": {
     "slide_type": "-"
    }
   },
   "outputs": [],
   "source": [
    "%%writefile pipeline/pipeline_steps/loanclassifier-explainer/loanclassifiermodel-explainer.yaml\n",
    "apiVersion: machinelearning.seldon.io/v1alpha2\n",
    "kind: SeldonDeployment\n",
    "metadata:\n",
    "  labels:\n",
    "    app: seldon\n",
    "  name: loanclassifier-explainer\n",
    "spec:\n",
    "  name: loanclassifier-explainer\n",
    "  annotations:             \n",
    "    seldon.io/rest-read-timeout: \"100000\"\n",
    "    seldon.io/rest-connection-timeout: \"100000\"\n",
    "    seldon.io/grpc-read-timeout: \"100000\"\n",
    "  predictors:\n",
    "  - componentSpecs:\n",
    "    - spec:\n",
    "        containers:\n",
    "        - image: loanclassifier-explainer:0.1\n",
    "          name: model-explainer\n",
    "    graph:\n",
    "      children: []\n",
    "      name: model-explainer\n",
    "      type: MODEL\n",
    "      endpoint:\n",
    "        type: REST\n",
    "    name: loanclassifier-explainer\n",
    "    replicas: 1"
   ]
  },
  {
   "cell_type": "markdown",
   "metadata": {
    "slideshow": {
     "slide_type": "subslide"
    }
   },
   "source": [
    "#### Deploy your remote explainer"
   ]
  },
  {
   "cell_type": "code",
   "execution_count": 188,
   "metadata": {
    "slideshow": {
     "slide_type": "-"
    }
   },
   "outputs": [
    {
     "name": "stdout",
     "output_type": "stream",
     "text": [
      "seldondeployment.machinelearning.seldon.io/loanclassifier-explainer configured\r\n"
     ]
    }
   ],
   "source": [
    "!kubectl apply -f pipeline/pipeline_steps/loanclassifier-explainer/loanclassifiermodel-explainer.yaml"
   ]
  },
  {
   "cell_type": "markdown",
   "metadata": {
    "slideshow": {
     "slide_type": "subslide"
    }
   },
   "source": [
    "#### Now we can request explanations throught the REST API"
   ]
  },
  {
   "cell_type": "code",
   "execution_count": 190,
   "metadata": {},
   "outputs": [
    {
     "name": "stdout",
     "output_type": "stream",
     "text": [
      "[[52  4  0  2  8  4  2  0  0  0 60  9]]\n",
      "['Marital Status = Separated', 'Sex = Female']\n"
     ]
    }
   ],
   "source": [
    "from seldon_core.seldon_client import SeldonClient\n",
    "import json\n",
    "\n",
    "batch = X_test_alibi[:1]\n",
    "print(batch)\n",
    "\n",
    "sc = SeldonClient(\n",
    "    gateway=\"ambassador\", \n",
    "    gateway_endpoint=\"localhost:80\",\n",
    "    deployment_name=\"loanclassifier-explainer\",\n",
    "    payload_type=\"ndarray\",\n",
    "    namespace=\"default\",\n",
    "    transport=\"rest\")\n",
    "\n",
    "client_prediction = json.loads(sc.predict(data=batch).response.strData)\n",
    "\n",
    "print(client_prediction[\"names\"])"
   ]
  },
  {
   "cell_type": "code",
   "execution_count": 191,
   "metadata": {
    "slideshow": {
     "slide_type": "-"
    }
   },
   "outputs": [
    {
     "name": "stdout",
     "output_type": "stream",
     "text": [
      "{\n",
      "  \"meta\": {\n",
      "    \"puid\": \"5q5bavp0qo1qg247lcml9864vl\",\n",
      "    \"tags\": {\n",
      "    },\n",
      "    \"routing\": {\n",
      "    },\n",
      "    \"requestPath\": {\n",
      "      \"model-explainer\": \"loanclassifier-explainer:0.1\"\n",
      "    },\n",
      "    \"metrics\": []\n",
      "  },\n",
      "  \"strData\": \"{\\\"names\\\": [\\\"Marital Status = Separated\\\", \\\"Sex = Female\\\", \\\"Education = Associates\\\"], \\\"precision\\\": 0.9739130434782609, \\\"coverage\\\": 0.0096, \\\"raw\\\": {\\\"feature\\\": [3, 7, 2], \\\"mean\\\": [0.8801571709233792, 0.9497206703910615, 0.9739130434782609], \\\"precision\\\": [0.8801571709233792, 0.9497206703910615, 0.9739130434782609], \\\"coverage\\\": [0.1782, 0.1029, 0.0096], \\\"examples\\\": [{\\\"covered\\\": [[41, 4, 1, 2, 2, 0, 4, 1, 0, 0, 40, 0], [23, 4, 4, 2, 7, 3, 4, 0, 0, 0, 20, 9], [33, 4, 0, 2, 1, 1, 4, 0, 0, 0, 40, 9], [50, 4, 4, 2, 2, 0, 4, 1, 4386, 0, 40, 0], [22, 4, 0, 2, 2, 1, 4, 1, 0, 0, 45, 9], [30, 4, 4, 2, 5, 4, 4, 0, 0, 0, 40, 9], [21, 4, 4, 2, 2, 3, 4, 1, 0, 0, 36, 9], [35, 4, 4, 2, 7, 1, 4, 0, 0, 0, 35, 9], [35, 4, 4, 2, 2, 0, 4, 1, 0, 0, 46, 9], [46, 4, 6, 2, 5, 0, 4, 1, 0, 0, 40, 9]], \\\"covered_true\\\": [[40, 4, 3, 2, 2, 0, 4, 1, 0, 0, 55, 9], [30, 4, 4, 2, 5, 4, 4, 0, 0, 0, 40, 9], [33, 4, 1, 2, 5, 1, 4, 1, 0, 0, 40, 1], [28, 4, 4, 2, 2, 0, 4, 1, 0, 0, 40, 9], [28, 4, 1, 2, 1, 1, 4, 1, 0, 0, 21, 9], [25, 0, 4, 2, 0, 3, 2, 1, 0, 0, 40, 0], [31, 4, 3, 2, 2, 0, 4, 1, 0, 0, 40, 9], [31, 0, 3, 2, 0, 1, 4, 0, 0, 0, 25, 9], [43, 4, 4, 2, 2, 0, 4, 1, 0, 0, 40, 9], [50, 4, 4, 2, 4, 0, 4, 1, 0, 0, 38, 9]], \\\"covered_false\\\": [[36, 4, 4, 2, 5, 3, 4, 0, 0, 0, 40, 9], [32, 4, 1, 2, 8, 0, 4, 1, 0, 0, 45, 9], [49, 4, 1, 2, 8, 1, 2, 0, 27828, 0, 60, 9], [31, 4, 1, 2, 5, 5, 4, 0, 7688, 0, 43, 9], [52, 4, 5, 2, 5, 0, 4, 1, 0, 0, 50, 9], [31, 4, 2, 2, 5, 0, 4, 1, 0, 1977, 99, 9], [50, 4, 5, 2, 5, 0, 4, 1, 0, 1977, 40, 9], [42, 5, 5, 2, 8, 0, 4, 1, 0, 0, 40, 9], [37, 4, 1, 2, 8, 0, 4, 1, 5178, 0, 40, 9], [57, 2, 5, 2, 8, 0, 4, 1, 0, 0, 50, 9]], \\\"uncovered_true\\\": [], \\\"uncovered_false\\\": []}, {\\\"covered\\\": [[29, 4, 1, 2, 1, 1, 4, 0, 0, 0, 35, 9], [50, 4, 1, 2, 1, 5, 4, 0, 0, 0, 40, 9], [19, 0, 3, 2, 0, 4, 4, 0, 0, 0, 30, 9], [22, 4, 4, 2, 1, 3, 4, 0, 0, 0, 40, 9], [37, 4, 0, 2, 8, 1, 4, 0, 0, 0, 40, 9], [38, 4, 4, 2, 2, 3, 4, 0, 0, 0, 25, 9], [59, 4, 1, 2, 1, 5, 4, 0, 2885, 0, 30, 9], [23, 4, 1, 2, 6, 1, 4, 0, 0, 0, 45, 9], [31, 4, 0, 2, 6, 3, 4, 0, 0, 0, 38, 9], [50, 4, 4, 2, 1, 2, 1, 0, 0, 0, 40, 7]], \\\"covered_true\\\": [[21, 4, 4, 2, 7, 3, 4, 0, 0, 0, 35, 9], [25, 0, 4, 2, 0, 4, 4, 0, 0, 0, 50, 9], [56, 4, 3, 2, 7, 4, 2, 0, 0, 0, 45, 9], [40, 0, 4, 2, 0, 5, 2, 0, 3464, 0, 20, 9], [52, 4, 4, 2, 6, 5, 4, 0, 0, 0, 52, 1], [25, 4, 4, 2, 4, 1, 3, 0, 0, 0, 40, 9], [21, 4, 4, 2, 6, 4, 0, 0, 0, 0, 38, 9], [21, 4, 4, 2, 6, 3, 4, 0, 0, 0, 20, 9], [26, 4, 4, 2, 1, 1, 4, 0, 0, 0, 40, 9], [25, 4, 0, 2, 5, 5, 4, 0, 0, 1887, 40, 9]], \\\"covered_false\\\": [[56, 6, 4, 2, 1, 4, 4, 0, 99999, 0, 40, 9], [33, 2, 1, 2, 5, 1, 4, 0, 0, 0, 50, 9], [63, 4, 1, 2, 5, 5, 4, 0, 7688, 0, 36, 9], [67, 4, 4, 2, 1, 1, 4, 0, 15831, 0, 16, 3], [43, 4, 5, 2, 5, 4, 4, 0, 0, 2547, 40, 9], [49, 4, 1, 2, 8, 1, 2, 0, 27828, 0, 60, 9], [62, 4, 4, 2, 2, 1, 4, 0, 8614, 0, 39, 9], [31, 4, 1, 2, 5, 5, 4, 0, 7688, 0, 43, 9], [36, 4, 4, 2, 5, 3, 4, 0, 0, 0, 40, 9], [53, 4, 2, 2, 5, 5, 4, 0, 99999, 0, 37, 9]], \\\"uncovered_true\\\": [], \\\"uncovered_false\\\": []}, {\\\"covered\\\": [[23, 7, 0, 2, 8, 1, 4, 0, 0, 0, 40, 9], [40, 4, 0, 2, 7, 5, 4, 0, 0, 0, 35, 9], [57, 4, 0, 2, 7, 4, 4, 0, 0, 0, 40, 9], [39, 4, 0, 2, 7, 0, 1, 0, 0, 0, 40, 7], [72, 4, 0, 2, 7, 4, 4, 0, 0, 0, 16, 9], [43, 4, 0, 2, 5, 0, 4, 0, 0, 0, 40, 9], [33, 4, 0, 2, 2, 4, 0, 0, 0, 0, 40, 9], [23, 4, 0, 2, 2, 4, 4, 0, 0, 0, 50, 9], [53, 6, 0, 2, 6, 0, 4, 0, 0, 0, 40, 1], [42, 4, 0, 2, 5, 4, 4, 0, 0, 0, 40, 9]], \\\"covered_true\\\": [[37, 4, 0, 2, 8, 0, 4, 0, 0, 1977, 60, 9], [18, 4, 0, 2, 6, 3, 4, 0, 0, 0, 25, 9], [47, 6, 0, 2, 8, 0, 4, 0, 0, 2415, 50, 9], [48, 7, 0, 2, 1, 0, 4, 0, 0, 0, 35, 9], [19, 4, 0, 2, 1, 3, 2, 0, 0, 0, 40, 9], [34, 4, 0, 2, 5, 0, 4, 0, 0, 0, 40, 6], [59, 4, 0, 2, 5, 4, 4, 0, 0, 0, 50, 9], [30, 4, 0, 2, 1, 4, 4, 0, 0, 0, 24, 9], [28, 2, 0, 2, 5, 1, 4, 0, 0, 0, 40, 9], [34, 4, 0, 2, 2, 0, 4, 0, 0, 0, 40, 3]], \\\"covered_false\\\": [[39, 4, 0, 2, 5, 5, 4, 0, 7688, 0, 20, 9], [40, 4, 0, 2, 8, 0, 4, 0, 0, 2415, 45, 9], [38, 4, 0, 2, 5, 0, 4, 0, 99999, 0, 65, 9], [70, 5, 0, 2, 8, 0, 4, 0, 0, 2377, 50, 9], [46, 4, 0, 2, 6, 0, 4, 0, 15024, 0, 40, 9], [42, 4, 0, 2, 6, 0, 4, 0, 7298, 0, 40, 9]], \\\"uncovered_true\\\": [], \\\"uncovered_false\\\": []}], \\\"all_precision\\\": 0, \\\"num_preds\\\": 1000101, \\\"names\\\": [\\\"Marital Status = Separated\\\", \\\"Sex = Female\\\", \\\"Education = Associates\\\"], \\\"instance\\\": [[52.0, 4.0, 0.0, 2.0, 8.0, 4.0, 2.0, 0.0, 0.0, 0.0, 60.0, 9.0]], \\\"prediction\\\": 0}}\"\n",
      "}"
     ]
    },
    {
     "name": "stderr",
     "output_type": "stream",
     "text": [
      "  % Total    % Received % Xferd  Average Speed   Time    Time     Time  Current\n",
      "                                 Dload  Upload   Total   Spent    Left  Speed\n",
      "\r",
      "  0     0    0     0    0     0      0      0 --:--:-- --:--:-- --:--:--     0\r",
      "100    92    0     0  100    92      0     76  0:00:01  0:00:01 --:--:--    76\r",
      "100  4784  100  4692  100    92   2329     45  0:00:02  0:00:02 --:--:--  2376\r",
      "100  4784  100  4692  100    92   2329     45  0:00:02  0:00:02 --:--:--  2375\n"
     ]
    }
   ],
   "source": [
    "%%bash\n",
    "curl -X POST -H 'Content-Type: application/json' \\\n",
    "    -d \"{'data': {'names': ['text'], 'ndarray': [[52,  4,  0,  2,  8,  4,  2,  0,  0,  0, 60, 9]] }}\" \\\n",
    "    http://localhost:80/seldon/default/loanclassifier-explainer/api/v0.1/predictions"
   ]
  },
  {
   "cell_type": "markdown",
   "metadata": {
    "slideshow": {
     "slide_type": "subslide"
    }
   },
   "source": [
    "### Now we have an explainer deployed!\n",
    "\n",
    "![](images/xai-deployment.jpg)"
   ]
  },
  {
   "cell_type": "markdown",
   "metadata": {
    "slideshow": {
     "slide_type": "subslide"
    }
   },
   "source": [
    "# Visualise metrics and explanations \n",
    "\n",
    "![](images/deploy-expl.jpg)"
   ]
  },
  {
   "cell_type": "markdown",
   "metadata": {
    "slideshow": {
     "slide_type": "slide"
    }
   },
   "source": [
    "# Revisiting our workflow\n",
    "\n",
    "<img src=\"images/gml.png\" style=\"width=100vw\">"
   ]
  },
  {
   "cell_type": "markdown",
   "metadata": {
    "slideshow": {
     "slide_type": "subslide"
    }
   },
   "source": [
    "# A practical guide towards explainability\n",
    "# and bias evaluation in machine learning\n",
    "\n",
    "<br>\n",
    "<br>\n",
    "<br>\n",
    "<br>\n",
    "<br>\n",
    "\n",
    "<br>\n",
    "\n",
    "<br>\n",
    "\n",
    "<br>\n",
    "<br>\n",
    "\n",
    "<h2>Alejandro Saucedo</h2>\n",
    "<br>\n",
    "Chief Scientist, The Institute for Ethical AI & Machine Learning\n",
    "<br>\n",
    "Director of ML Engineering, Seldon Technologies\n",
    "\n",
    "<br>\n",
    "<br>\n",
    "<h3>Twitter: AxSaucedo</h3>\n",
    "<br>\n",
    "<h3>Slides: github.com/EthicalML/explainability-and-bias</h3>\n",
    "\n",
    "<br><br><br>\n",
    "\n",
    "<hr>\n"
   ]
  }
 ],
 "metadata": {
  "celltoolbar": "Slideshow",
  "kernelspec": {
   "display_name": "Python 3",
   "language": "python",
   "name": "python3"
  },
  "language_info": {
   "codemirror_mode": {
    "name": "ipython",
    "version": 3
   },
   "file_extension": ".py",
   "mimetype": "text/x-python",
   "name": "python",
   "nbconvert_exporter": "python",
   "pygments_lexer": "ipython3",
   "version": "3.7.3"
  }
 },
 "nbformat": 4,
 "nbformat_minor": 2
}
