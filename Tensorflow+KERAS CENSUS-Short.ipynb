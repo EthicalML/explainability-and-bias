{
 "cells": [
  {
   "cell_type": "code",
   "execution_count": 1,
   "metadata": {},
   "outputs": [],
   "source": [
    "import time\n",
    "import os\n",
    "import urllib.parse\n",
    "\n",
    "import numpy as np\n",
    "import tensorflow as tf\n",
    "from tensorflow.core.example.example_pb2 import Example\n",
    "from tensorflow.core.example.feature_pb2 import Feature\n",
    "from sklearn.model_selection import train_test_split\n",
    "import seaborn as sn\n",
    "import matplotlib.pyplot as plt\n",
    "import pandas as pd\n",
    "\n",
    "tf.logging.set_verbosity(tf.logging.INFO) "
   ]
  },
  {
   "cell_type": "markdown",
   "metadata": {},
   "source": [
    "# Get data\n",
    "We are using the Census data. We are proposing a process to assess algorithmic bias in models, so instead of using the classification for whether people have >50k income, it will be used to classify if people should get a loan."
   ]
  },
  {
   "cell_type": "code",
   "execution_count": 2,
   "metadata": {},
   "outputs": [
    {
     "data": {
      "text/html": [
       "<div>\n",
       "<style scoped>\n",
       "    .dataframe tbody tr th:only-of-type {\n",
       "        vertical-align: middle;\n",
       "    }\n",
       "\n",
       "    .dataframe tbody tr th {\n",
       "        vertical-align: top;\n",
       "    }\n",
       "\n",
       "    .dataframe thead th {\n",
       "        text-align: right;\n",
       "    }\n",
       "</style>\n",
       "<table border=\"1\" class=\"dataframe\">\n",
       "  <thead>\n",
       "    <tr style=\"text-align: right;\">\n",
       "      <th></th>\n",
       "      <th>age</th>\n",
       "      <th>workclass</th>\n",
       "      <th>education</th>\n",
       "      <th>education-num</th>\n",
       "      <th>marital-status</th>\n",
       "      <th>occupation</th>\n",
       "      <th>relationship</th>\n",
       "      <th>ethnicity</th>\n",
       "      <th>gender</th>\n",
       "      <th>capital-gain</th>\n",
       "      <th>capital-loss</th>\n",
       "      <th>hours-per-week</th>\n",
       "      <th>native-country</th>\n",
       "      <th>loan</th>\n",
       "    </tr>\n",
       "  </thead>\n",
       "  <tbody>\n",
       "    <tr>\n",
       "      <th>2545</th>\n",
       "      <td>40</td>\n",
       "      <td>Private</td>\n",
       "      <td>Some-college</td>\n",
       "      <td>15</td>\n",
       "      <td>Married-civ-spouse</td>\n",
       "      <td>Exec-managerial</td>\n",
       "      <td>Unmarried</td>\n",
       "      <td>White</td>\n",
       "      <td>Male</td>\n",
       "      <td>0</td>\n",
       "      <td>0</td>\n",
       "      <td>60</td>\n",
       "      <td>United-States</td>\n",
       "      <td>0</td>\n",
       "    </tr>\n",
       "    <tr>\n",
       "      <th>6946</th>\n",
       "      <td>18</td>\n",
       "      <td>State-gov</td>\n",
       "      <td>Some-college</td>\n",
       "      <td>9</td>\n",
       "      <td>Married-civ-spouse</td>\n",
       "      <td>Other-service</td>\n",
       "      <td>Not-in-family</td>\n",
       "      <td>White</td>\n",
       "      <td>Female</td>\n",
       "      <td>0</td>\n",
       "      <td>0</td>\n",
       "      <td>50</td>\n",
       "      <td>United-States</td>\n",
       "      <td>0</td>\n",
       "    </tr>\n",
       "    <tr>\n",
       "      <th>6337</th>\n",
       "      <td>70</td>\n",
       "      <td>Private</td>\n",
       "      <td>9th</td>\n",
       "      <td>13</td>\n",
       "      <td>Divorced</td>\n",
       "      <td>Machine-op-inspct</td>\n",
       "      <td>Not-in-family</td>\n",
       "      <td>White</td>\n",
       "      <td>Female</td>\n",
       "      <td>0</td>\n",
       "      <td>0</td>\n",
       "      <td>40</td>\n",
       "      <td>United-States</td>\n",
       "      <td>1</td>\n",
       "    </tr>\n",
       "    <tr>\n",
       "      <th>2997</th>\n",
       "      <td>29</td>\n",
       "      <td>Private</td>\n",
       "      <td>Bachelors</td>\n",
       "      <td>10</td>\n",
       "      <td>Never-married</td>\n",
       "      <td>Machine-op-inspct</td>\n",
       "      <td>Husband</td>\n",
       "      <td>White</td>\n",
       "      <td>Female</td>\n",
       "      <td>0</td>\n",
       "      <td>0</td>\n",
       "      <td>40</td>\n",
       "      <td>United-States</td>\n",
       "      <td>0</td>\n",
       "    </tr>\n",
       "    <tr>\n",
       "      <th>9147</th>\n",
       "      <td>18</td>\n",
       "      <td>Private</td>\n",
       "      <td>11th</td>\n",
       "      <td>9</td>\n",
       "      <td>Never-married</td>\n",
       "      <td>Transport-moving</td>\n",
       "      <td>Husband</td>\n",
       "      <td>White</td>\n",
       "      <td>Female</td>\n",
       "      <td>0</td>\n",
       "      <td>0</td>\n",
       "      <td>40</td>\n",
       "      <td>United-States</td>\n",
       "      <td>1</td>\n",
       "    </tr>\n",
       "  </tbody>\n",
       "</table>\n",
       "</div>"
      ],
      "text/plain": [
       "      age  workclass     education  education-num      marital-status  \\\n",
       "2545   40    Private  Some-college             15  Married-civ-spouse   \n",
       "6946   18  State-gov  Some-college              9  Married-civ-spouse   \n",
       "6337   70    Private           9th             13            Divorced   \n",
       "2997   29    Private     Bachelors             10       Never-married   \n",
       "9147   18    Private          11th              9       Never-married   \n",
       "\n",
       "             occupation   relationship ethnicity  gender  capital-gain  \\\n",
       "2545    Exec-managerial      Unmarried     White    Male             0   \n",
       "6946      Other-service  Not-in-family     White  Female             0   \n",
       "6337  Machine-op-inspct  Not-in-family     White  Female             0   \n",
       "2997  Machine-op-inspct        Husband     White  Female             0   \n",
       "9147   Transport-moving        Husband     White  Female             0   \n",
       "\n",
       "      capital-loss  hours-per-week native-country  loan  \n",
       "2545             0              60  United-States     0  \n",
       "6946             0              50  United-States     0  \n",
       "6337             0              40  United-States     1  \n",
       "2997             0              40  United-States     0  \n",
       "9147             0              40  United-States     1  "
      ]
     },
     "execution_count": 2,
     "metadata": {},
     "output_type": "execute_result"
    }
   ],
   "source": [
    "DOWNLOAD = False\n",
    "\n",
    "csv_columns = [\"age\", \"workclass\", \"fnlwgt\", \"education\", \"education-num\", \"marital-status\",\n",
    "                   \"occupation\", \"relationship\", \"ethnicity\", \"gender\", \"capital-gain\", \"capital-loss\",\n",
    "                   \"hours-per-week\", \"native-country\", \"loan\"]\n",
    "\n",
    "input_features = [\"age\", \"workclass\", \"education\", \"education-num\", \"marital-status\",\n",
    "                   \"occupation\", \"relationship\", \"ethnicity\", \"gender\", \"capital-gain\", \"capital-loss\",\n",
    "                   \"hours-per-week\", \"native-country\"]\n",
    "\n",
    "categorical_features = [\"workclass\", \"education\", \"marital-status\",\n",
    "                       \"occupation\", \"relationship\", \"ethnicity\", \"gender\",\n",
    "                       \"native-country\"]\n",
    "\n",
    "label_column = 'loan'\n",
    "\n",
    "csv_path = \"data/adult.csv\"\n",
    "\n",
    "if DOWNLOAD:\n",
    "    csv_path = 'https://archive.ics.uci.edu/ml/machine-learning-databases/adult/adult.data'\n",
    "\n",
    "# Read the dataset from the provided CSV and print out information about it.\n",
    "df = pd.read_csv(csv_path, names=csv_columns, skiprows=[0], skipinitialspace=True)\n",
    "\n",
    "# Converting Loan column to 1 if >50K\n",
    "df[label_column] = df[label_column].apply(lambda x: \">50K\" in x).astype(int)\n",
    "\n",
    "# for c in [\"age\", \"education-num\", \"capital-gain\", \"capital-loss\", \"hours-per-week\"]:\n",
    "#         df[c] = pd.to_numeric(df[c])\n",
    "\n",
    "# Delete unused column\n",
    "del df[\"fnlwgt\"] \n",
    "\n",
    "X_display = df.drop('loan', axis=1)\n",
    "y_display = df['loan']\n",
    "        \n",
    "# int_columns = df.select_dtypes(['int64']).columns\n",
    "# df[int_columns] = df[int_columns].astype('int64')\n",
    "\n",
    "# cat_columns = df.select_dtypes(['object']).columns\n",
    "# df[cat_columns] = df[cat_columns].astype('category')\n",
    "# df[cat_columns] = df[cat_columns].apply(lambda x: x.cat.codes)\n",
    "\n",
    "g = df.groupby('loan')\n",
    "df = df.apply(lambda x: x.sample(g.size().min()).reset_index(drop=True))\n",
    "df = df.sample(100)\n",
    "\n",
    "df.head(5)"
   ]
  },
  {
   "cell_type": "code",
   "execution_count": 3,
   "metadata": {},
   "outputs": [],
   "source": [
    "model_folder = 'trained_model'\n",
    "\n",
    "examples_file = 'data.tfrecord'\n",
    "\n",
    "model_path = os.path.join(os.getcwd(), model_folder)\n",
    "examples_path = os.path.join(os.getcwd(), examples_file)"
   ]
  },
  {
   "cell_type": "code",
   "execution_count": 4,
   "metadata": {},
   "outputs": [
    {
     "name": "stdout",
     "output_type": "stream",
     "text": [
      "[('age', 'int64'), ('workclass', 'object'), ('education', 'object'), ('education-num', 'int64'), ('marital-status', 'object'), ('occupation', 'object'), ('relationship', 'object'), ('ethnicity', 'object'), ('gender', 'object'), ('capital-gain', 'int64'), ('capital-loss', 'int64'), ('hours-per-week', 'int64'), ('native-country', 'object')]\n"
     ]
    }
   ],
   "source": [
    "X = df.drop(label_column, axis=1)\n",
    "y = df[label_column]\n",
    "\n",
    "dtypes = list(zip(X.dtypes.index, map(str, X.dtypes)))\n",
    "print(dtypes)\n",
    "\n",
    "#Normalising to increase accuracy\n",
    "# for k,dtype in dtypes:\n",
    "#     if dtype == \"float32\":\n",
    "#         X[k] -= X[k].mean()\n",
    "#         X[k] /= X[k].std()"
   ]
  },
  {
   "cell_type": "code",
   "execution_count": 5,
   "metadata": {},
   "outputs": [],
   "source": [
    "X_train, X_test, y_train, y_test = train_test_split(X, y, test_size=0.20)"
   ]
  },
  {
   "cell_type": "code",
   "execution_count": 6,
   "metadata": {},
   "outputs": [],
   "source": [
    "BATCH_SIZE = 40\n",
    "num_epochs = 1\n",
    "shuffle = True"
   ]
  },
  {
   "cell_type": "code",
   "execution_count": 7,
   "metadata": {},
   "outputs": [],
   "source": [
    "\n",
    "# gender = tf.feature_column.indicator_column(\n",
    "#         tf.feature_column.categorical_column_with_hash_bucket(\n",
    "#             key=\"gender\", hash_bucket_size=1000, dtype=tf.int8))\n",
    "\n",
    "# ethnicity = tf.feature_column.indicator_column(\n",
    "#         tf.feature_column.categorical_column_with_hash_bucket(\n",
    "#             key=\"ethnicity\", hash_bucket_size=1000, dtype=tf.int8))\n",
    "\n",
    "# marital_status = tf.feature_column.indicator_column(\n",
    "#         tf.feature_column.categorical_column_with_hash_bucket(\n",
    "#             \"marital-status\", hash_bucket_size=100, dtype=tf.int8))\n",
    "\n",
    "# relationship = tf.feature_column.indicator_column(\n",
    "#         tf.feature_column.categorical_column_with_hash_bucket(\n",
    "#             \"relationship\", hash_bucket_size=100, dtype=tf.int8))\n",
    "\n",
    "# workclass = tf.feature_column.indicator_column(\n",
    "#         tf.feature_column.categorical_column_with_hash_bucket(\n",
    "#             \"workclass\", hash_bucket_size=100, dtype=tf.int8))\n",
    "\n",
    "# occupation = tf.feature_column.indicator_column(\n",
    "#         tf.feature_column.categorical_column_with_hash_bucket(\n",
    "#             \"occupation\", hash_bucket_size=1000, dtype=tf.int8))\n",
    "\n",
    "# native_country = tf.feature_column.indicator_column(\n",
    "#         tf.feature_column.categorical_column_with_hash_bucket(\n",
    "#             \"native-country\", hash_bucket_size=1000, dtype=tf.int8))\n",
    "\n",
    "# education = tf.feature_column.indicator_column(\n",
    "#         tf.feature_column.categorical_column_with_hash_bucket(\n",
    "#             \"education\", hash_bucket_size=1000, dtype=tf.int8))\n",
    "\n",
    "\n",
    "gender = tf.feature_column.indicator_column(\n",
    "        tf.feature_column.categorical_column_with_hash_bucket(\n",
    "            key=\"gender\", hash_bucket_size=1000))\n",
    "\n",
    "ethnicity = tf.feature_column.indicator_column(\n",
    "        tf.feature_column.categorical_column_with_hash_bucket(\n",
    "            key=\"ethnicity\", hash_bucket_size=1000))\n",
    "\n",
    "marital_status = tf.feature_column.indicator_column(\n",
    "        tf.feature_column.categorical_column_with_hash_bucket(\n",
    "            \"marital-status\", hash_bucket_size=100))\n",
    "\n",
    "relationship = tf.feature_column.indicator_column(\n",
    "        tf.feature_column.categorical_column_with_hash_bucket(\n",
    "            \"relationship\", hash_bucket_size=100))\n",
    "\n",
    "workclass = tf.feature_column.indicator_column(\n",
    "        tf.feature_column.categorical_column_with_hash_bucket(\n",
    "            \"workclass\", hash_bucket_size=100))\n",
    "\n",
    "occupation = tf.feature_column.indicator_column(\n",
    "        tf.feature_column.categorical_column_with_hash_bucket(\n",
    "            \"occupation\", hash_bucket_size=1000))\n",
    "\n",
    "native_country = tf.feature_column.indicator_column(\n",
    "        tf.feature_column.categorical_column_with_hash_bucket(\n",
    "            \"native-country\", hash_bucket_size=1000))\n",
    "\n",
    "education = tf.feature_column.indicator_column(\n",
    "        tf.feature_column.categorical_column_with_hash_bucket(\n",
    "            \"education\", hash_bucket_size=1000))\n",
    "\n",
    "\n",
    "# occupation = tf.feature_column.embedding_column(\n",
    "#         tf.feature_column.categorical_column_with_hash_bucket(\n",
    "#             \"occupation\", hash_bucket_size=1000),\n",
    "#         dimension=8)\n",
    "\n",
    "# native_country = tf.feature_column.embedding_column(\n",
    "#         tf.feature_column.categorical_column_with_hash_bucket(\n",
    "#             \"native-country\", hash_bucket_size=1000),\n",
    "#         dimension=8)\n",
    "\n",
    "# education = tf.feature_column.embedding_column(\n",
    "#         tf.feature_column.categorical_column_with_hash_bucket(\n",
    "#             \"education\", hash_bucket_size=1000),\n",
    "#         dimension=8)"
   ]
  },
  {
   "cell_type": "code",
   "execution_count": 8,
   "metadata": {},
   "outputs": [],
   "source": [
    "age = tf.feature_column.numeric_column(\"age\")\n",
    "education_num = tf.feature_column.numeric_column(\"education-num\")\n",
    "capital_gain = tf.feature_column.numeric_column(\"capital-gain\")\n",
    "capital_loss  = tf.feature_column.numeric_column(\"capital-loss\")\n",
    "hours_per_week = tf.feature_column.numeric_column(\"hours-per-week\")\n",
    "\n",
    "age = tf.feature_column.bucketized_column(\n",
    "    age, boundaries=list(range(0,100,5)))\n",
    "education_num = tf.feature_column.bucketized_column(\n",
    "    education_num, boundaries=list(range(0,16,1)))\n",
    "capital_gain = tf.feature_column.bucketized_column(\n",
    "    capital_gain, boundaries=list(range(0,100000,10000)))\n",
    "capital_loss  = tf.feature_column.bucketized_column(\n",
    "    capital_loss, boundaries=list(range(0,4000,1000)))\n",
    "hours_per_week = tf.feature_column.bucketized_column(\n",
    "    hours_per_week, boundaries=list(range(0,100,5)))"
   ]
  },
  {
   "cell_type": "code",
   "execution_count": null,
   "metadata": {},
   "outputs": [],
   "source": []
  },
  {
   "cell_type": "code",
   "execution_count": 9,
   "metadata": {},
   "outputs": [],
   "source": [
    "all_columns = [\n",
    "    workclass,\n",
    "    marital_status,\n",
    "    gender,\n",
    "    relationship,\n",
    "    ethnicity,\n",
    "    education,\n",
    "    native_country,\n",
    "    occupation,\n",
    "    age,\n",
    "    education_num,\n",
    "    capital_gain,\n",
    "    capital_loss,\n",
    "    hours_per_week,\n",
    "]"
   ]
  },
  {
   "cell_type": "code",
   "execution_count": 10,
   "metadata": {},
   "outputs": [
    {
     "name": "stdout",
     "output_type": "stream",
     "text": [
      "INFO:tensorflow:Using default config.\n",
      "INFO:tensorflow:Using config: {'_model_dir': 'models/model_DEEP_1543861039', '_tf_random_seed': None, '_save_summary_steps': 100, '_save_checkpoints_steps': None, '_save_checkpoints_secs': 600, '_session_config': None, '_keep_checkpoint_max': 5, '_keep_checkpoint_every_n_hours': 10000, '_log_step_count_steps': 100, '_train_distribute': None, '_device_fn': None, '_service': None, '_cluster_spec': <tensorflow.python.training.server_lib.ClusterSpec object at 0x7fe983a67b70>, '_task_type': 'worker', '_task_id': 0, '_global_id_in_cluster': 0, '_master': '', '_evaluation_master': '', '_is_chief': True, '_num_ps_replicas': 0, '_num_worker_replicas': 1}\n"
     ]
    }
   ],
   "source": [
    "model_dir = \"models/model_DEEP_\" + str(int(time.time()))\n",
    "\n",
    "\n",
    "\n",
    "m = tf.estimator.BoostedTreesClassifier(\n",
    "            model_dir=model_dir,\n",
    "            feature_columns=all_columns,\n",
    "            n_batches_per_layer=int(0.5*X.shape[0]/BATCH_SIZE),\n",
    ")\n",
    "\n",
    "# m = tf.estimator.DNNClassifier(\n",
    "#             model_dir=model_dir,\n",
    "#             feature_columns=all_columns,\n",
    "#             hidden_units=[100,100,100])\n",
    "\n"
   ]
  },
  {
   "cell_type": "code",
   "execution_count": null,
   "metadata": {},
   "outputs": [],
   "source": []
  },
  {
   "cell_type": "code",
   "execution_count": null,
   "metadata": {
    "scrolled": false
   },
   "outputs": [
    {
     "name": "stdout",
     "output_type": "stream",
     "text": [
      "INFO:tensorflow:Calling model_fn.\n"
     ]
    }
   ],
   "source": [
    "%%time \n",
    "\n",
    "train_input_fn = tf.estimator.inputs.pandas_input_fn(\n",
    "        x=X_train,\n",
    "        y=y_train,\n",
    "        batch_size=BATCH_SIZE,\n",
    "        num_epochs=num_epochs,\n",
    "        shuffle=shuffle)\n",
    "\n",
    "m.train(input_fn=train_input_fn)\n",
    "\n",
    "print('training done')"
   ]
  },
  {
   "cell_type": "code",
   "execution_count": null,
   "metadata": {},
   "outputs": [],
   "source": [
    "eval_input_fn = tf.estimator.inputs.pandas_input_fn(\n",
    "        x=X_test,\n",
    "        y=y_test,\n",
    "        batch_size=BATCH_SIZE,\n",
    "        num_epochs=num_epochs,\n",
    "        shuffle=shuffle)\n",
    "\n",
    "results = m.evaluate(input_fn=eval_input_fn)\n",
    "\n",
    "print('\\nAccuracy: %s' % results['accuracy'])"
   ]
  },
  {
   "cell_type": "code",
   "execution_count": null,
   "metadata": {},
   "outputs": [],
   "source": [
    "prediction_input_fn = tf.estimator.inputs.pandas_input_fn(\n",
    "        x=X_test,\n",
    "        batch_size=BATCH_SIZE,\n",
    "        num_epochs=num_epochs,\n",
    "        shuffle=shuffle)\n",
    "\n",
    "pred_gen = m.predict(input_fn=prediction_input_fn)\n",
    "\n",
    "pred_list = []\n",
    "\n",
    "for pred, actual in zip(pred_gen, y):\n",
    "    tmp = []\n",
    "    tmp.append(pred[\"logits\"][0])   \n",
    "    tmp.append(pred[\"logistic\"][0])\n",
    "    tmp.append(pred[\"probabilities\"][0])\n",
    "    tmp.append(pred[\"probabilities\"][1])\n",
    "    tmp.append(actual)\n",
    "    tmp.append(pred[\"class_ids\"][0])\n",
    "    tmp.append(int(pred[\"class_ids\"][0] == actual))\n",
    "    tmp.append(int(pred[\"class_ids\"][0] != actual and actual == 1))\n",
    "    tmp.append(int(pred[\"class_ids\"][0] != actual and actual == 0))\n",
    "\n",
    "    #get index of maximum value of sigmoid. it will correspond to class\n",
    "    pred_list.append(tmp)\n",
    "\n",
    "\n",
    "pred_cols = [\"logits\", \"logistic\", \"prob_neg\", \"prob_pos\",\n",
    "            \"actual\", \"predicted\", \"is_correct\", \n",
    "             \"false_positive\", \"false_negative\"]\n",
    "\n",
    "pred_df = pd.DataFrame(pred_list, columns=pred_cols)\n",
    "pred_df"
   ]
  },
  {
   "cell_type": "code",
   "execution_count": 22,
   "metadata": {},
   "outputs": [
    {
     "data": {
      "image/png": "[encoded data removed]",
      "text/plain": [
       "<Figure size 432x288 with 2 Axes>"
      ]
     },
     "metadata": {
      "needs_background": "light"
     },
     "output_type": "display_data"
    },
    {
     "data": {
      "image/png": "[encoded data removed]",
      "text/plain": [
       "<Figure size 432x288 with 2 Axes>"
      ]
     },
     "metadata": {
      "needs_background": "light"
     },
     "output_type": "display_data"
    }
   ],
   "source": [
    "from sklearn.metrics import confusion_matrix\n",
    "\n",
    "confusion = confusion_matrix(\n",
    "    pred_df[\"actual\"],\n",
    "    pred_df[\"predicted\"])\n",
    "\n",
    "confusion_df = pd.DataFrame(confusion, \n",
    "            index=[\"Actual Denied\", \"Actual Approved\"], \n",
    "            columns=[\"Preditced Denied\", \"Preditced Approved\"])\n",
    "\n",
    "confusion_scaled = \\\n",
    "    confusion.astype(\"float\") / confusion.sum(axis=1)[:, np.newaxis]\n",
    "\n",
    "confusion_scaled_df = pd.DataFrame(confusion_scaled, \n",
    "            index=[\"Denied\", \"Approved\"], \n",
    "            columns=[\"Denied\", \"Approved\"])\n",
    "\n",
    "sn.heatmap(confusion_df, annot=True, fmt='d', center=1)\n",
    "plt.show()\n",
    "\n",
    "sn.heatmap(confusion_scaled_df, annot=True, fmt='.2f', center=1)\n",
    "plt.show()"
   ]
  },
  {
   "cell_type": "code",
   "execution_count": 20,
   "metadata": {},
   "outputs": [
    {
     "name": "stdout",
     "output_type": "stream",
     "text": [
      "0.5039484450070948\n"
     ]
    },
    {
     "data": {
      "image/png": "[encoded data removed]",
      "text/plain": [
       "<Figure size 432x288 with 1 Axes>"
      ]
     },
     "metadata": {
      "needs_background": "light"
     },
     "output_type": "display_data"
    }
   ],
   "source": [
    "from sklearn.metrics import roc_curve, auc\n",
    "\n",
    "fpr, tpr, _ = roc_curve(\n",
    "        pred_df[\"actual\"].values, pred_df[\"prob_pos\"].values)\n",
    "\n",
    "roc_auc = auc(fpr, tpr)\n",
    "print(roc_auc)\n",
    "\n",
    "plt.figure()\n",
    "plt.plot(fpr, tpr, label='ROC curve (area = %0.2f)' % roc_auc)\n",
    "plt.plot([0, 1], [0, 1], 'k--')\n",
    "plt.xlim([0.0, 1.0])\n",
    "plt.ylim([0.0, 1.05])\n",
    "plt.xlabel('False Positive Rate')\n",
    "plt.ylabel('True Positive Rate')\n",
    "plt.title('Receiver Operating Characteristic (ROC)')\n",
    "plt.legend(loc=\"lower right\")\n",
    "plt.show()"
   ]
  },
  {
   "cell_type": "code",
   "execution_count": null,
   "metadata": {},
   "outputs": [],
   "source": [
    "predicted = pred_df[\"predicted\"]\n",
    "actual = pred_df[\"actual\"]\n",
    "\n",
    "TP = np.count_nonzero(predicted * actual)\n",
    "TN = np.count_nonzero((predicted - 1) * (actual - 1))\n",
    "FP = np.count_nonzero(predicted * (actual - 1))\n",
    "FN = np.count_nonzero((predicted - 1) * actual)\n",
    "\n",
    "precision = TP / (TP + FP)\n",
    "recall = TP / (TP + FN)\n",
    "f1 = 2 * precision * recall / (precision + recall)\n",
    "\n",
    "print(precision, recall, f1)"
   ]
  },
  {
   "cell_type": "markdown",
   "metadata": {},
   "source": [
    "#### Data Analysis"
   ]
  },
  {
   "cell_type": "code",
   "execution_count": null,
   "metadata": {},
   "outputs": [],
   "source": [
    "X_analysis = X_display.copy()\n",
    "X_analysis = X_analysis.join(pred_df)\n",
    "\n",
    "X_analysis.tail(5)"
   ]
  },
  {
   "cell_type": "code",
   "execution_count": null,
   "metadata": {},
   "outputs": [],
   "source": [
    "X_display.gender.value_counts().plot.barh()"
   ]
  },
  {
   "cell_type": "code",
   "execution_count": null,
   "metadata": {},
   "outputs": [],
   "source": [
    "X_display.plot(\"gender\", \"predicted\")"
   ]
  },
  {
   "cell_type": "code",
   "execution_count": null,
   "metadata": {},
   "outputs": [],
   "source": [
    "flds = [\"gender\", \"age\", \"education-num\", \"capital-gain\", \n",
    "                  \"capital-loss\", \"hours-per-week\"]\n",
    "\n",
    "\n",
    "enc_summ = X_display[flds].groupby(\"gender\", as_index=False).mean()\n",
    "enc_summ"
   ]
  },
  {
   "cell_type": "code",
   "execution_count": null,
   "metadata": {},
   "outputs": [],
   "source": []
  },
  {
   "cell_type": "markdown",
   "metadata": {},
   "source": [
    "# Explainability with SHAP"
   ]
  },
  {
   "cell_type": "code",
   "execution_count": null,
   "metadata": {},
   "outputs": [],
   "source": [
    "import shap\n",
    "shap.initjs()\n"
   ]
  },
  {
   "cell_type": "code",
   "execution_count": null,
   "metadata": {},
   "outputs": [],
   "source": [
    "tf_shap_idx = 39\n",
    "tf_shap_x = X.iloc[tf_shap_idx,:]\n",
    "tf_shap_display = X_display.iloc[tf_shap_idx,:]\n",
    "tf_shap_y = y.iloc[tf_shap_idx]\n",
    "print(tf_shap_y)"
   ]
  },
  {
   "cell_type": "code",
   "execution_count": null,
   "metadata": {},
   "outputs": [],
   "source": [
    "\n",
    "\n",
    "\n",
    "def shap_predict_proba(shap_X):\n",
    "    tmp_df = pd.DataFrame(data=shap_X, columns=input_features)\n",
    "    # Converting to int\n",
    "#     for c in [\"age\", \"education-num\", \"capital-gain\", \"capital-loss\", \"hours-per-week\"]:\n",
    "#         tmp_df[c] = pd.to_numeric(tmp_df[c])\n",
    "    \n",
    "    predict_input_fn = tf.estimator.inputs.pandas_input_fn(\n",
    "        x=tmp_df,\n",
    "        batch_size=BATCH_SIZE,\n",
    "        num_epochs=num_epochs,\n",
    "        shuffle=shuffle)\n",
    "\n",
    "    pred_gen = m.predict(input_fn=predict_input_fn)\n",
    "    pred_list = []\n",
    "    for pred in pred_gen:\n",
    "        pred_list.append(pred[\"logits\"][0])\n",
    "    pred_arr = np.array(pred_list)\n",
    "\n",
    "    return pred_arr\n",
    "\n",
    "tf_explainer = shap.KernelExplainer(\n",
    "                        shap_predict_proba, \n",
    "                        X.iloc[:100,:], \n",
    "                        link=\"identity\")\n"
   ]
  },
  {
   "cell_type": "code",
   "execution_count": null,
   "metadata": {},
   "outputs": [],
   "source": [
    "tf_shap_values = tf_explainer.shap_values(tf_shap_x, nsamples=500)"
   ]
  },
  {
   "cell_type": "code",
   "execution_count": null,
   "metadata": {},
   "outputs": [],
   "source": [
    "shap.force_plot(tf_explainer.expected_value, tf_shap_values, tf_shap_display)"
   ]
  },
  {
   "cell_type": "code",
   "execution_count": null,
   "metadata": {},
   "outputs": [],
   "source": [
    "tf_shap_idx_multi_from = 15\n",
    "tf_shap_idx_multi_to = 40\n",
    "tf_shap_x_multi = X.iloc[tf_shap_idx_multi_from:tf_shap_idx_multi_to,:]\n",
    "tf_shap_display_multi = X_display.iloc[tf_shap_idx_multi_from:tf_shap_idx_multi_to,:]\n",
    "tf_shap_y_multi = y.iloc[tf_shap_idx_multi_from:tf_shap_idx_multi_to]\n",
    "print(tf_shap_y_multi)"
   ]
  },
  {
   "cell_type": "code",
   "execution_count": null,
   "metadata": {},
   "outputs": [],
   "source": [
    "tf_shap_values_multi = tf_explainer.shap_values(tf_shap_x_multi, nsamples=500)"
   ]
  },
  {
   "cell_type": "code",
   "execution_count": null,
   "metadata": {
    "scrolled": true
   },
   "outputs": [],
   "source": [
    "shap.force_plot(tf_explainer.expected_value, tf_shap_values_multi, tf_shap_display_multi)"
   ]
  },
  {
   "cell_type": "code",
   "execution_count": null,
   "metadata": {},
   "outputs": [],
   "source": [
    "shap.dependence_plot(\"gender\", \n",
    "                     tf_shap_values_multi, \n",
    "                     tf_shap_x_multi, \n",
    "                     display_features=tf_shap_display_multi)"
   ]
  },
  {
   "cell_type": "code",
   "execution_count": null,
   "metadata": {},
   "outputs": [],
   "source": [
    "shap.summary_plot(tf_shap_values_multi, tf_shap_x_multi)"
   ]
  },
  {
   "cell_type": "markdown",
   "metadata": {},
   "source": [
    "\n",
    "# Census income classification with Keras\n",
    "\n",
    "We use keras to perform this computation\n"
   ]
  },
  {
   "cell_type": "code",
   "execution_count": null,
   "metadata": {},
   "outputs": [],
   "source": [
    "from sklearn.model_selection import train_test_split\n",
    "from keras.layers import Input, Dense, Flatten, Concatenate, concatenate, Dropout, Lambda\n",
    "from keras.models import Model\n",
    "from keras.layers.embeddings import Embedding\n",
    "from tqdm import tqdm\n",
    "import shap"
   ]
  },
  {
   "cell_type": "code",
   "execution_count": null,
   "metadata": {},
   "outputs": [],
   "source": [
    "# build model\n",
    "input_els = []\n",
    "encoded_els = []\n",
    "for k,dtype in dtypes:\n",
    "    input_els.append(Input(shape=(1,)))\n",
    "    if dtype == \"int8\":\n",
    "        e = Flatten()(Embedding(X_train[k].max()+1, 1)(input_els[-1]))\n",
    "    else:\n",
    "        e = input_els[-1]\n",
    "    encoded_els.append(e)\n",
    "encoded_els = concatenate(encoded_els)\n",
    "layer1 = Dropout(0.5)(Dense(100, activation=\"relu\")(encoded_els))\n",
    "out = Dense(1)(layer1)\n",
    "\n",
    "# train model\n",
    "regression = Model(inputs=input_els, outputs=[out])\n",
    "regression.compile(optimizer=\"adam\", loss='binary_crossentropy')\n",
    "regression.fit(\n",
    "    [X_train[k].values for k,t in dtypes],\n",
    "    y_train,\n",
    "    epochs=50,\n",
    "    batch_size=512,\n",
    "    shuffle=True,\n",
    "    validation_data=([X_test[k].values for k,t in dtypes], y_test)\n",
    ")"
   ]
  },
  {
   "cell_type": "code",
   "execution_count": null,
   "metadata": {},
   "outputs": [],
   "source": [
    "def f(X):\n",
    "    values = regression.predict([X[:,i] for i in range(X.shape[1])]).flatten()\n",
    "    return values\n",
    "keras_explainer = shap.KernelExplainer(f, X.iloc[:100,:])"
   ]
  },
  {
   "cell_type": "code",
   "execution_count": null,
   "metadata": {},
   "outputs": [],
   "source": [
    "keras_idx = 10\n",
    "keras_x = X.iloc[keras_idx,:]\n",
    "keras_y = y.iloc[keras_idx]\n",
    "keras_shap_values = keras_explainer.shap_values(keras_x, nsamples=500)"
   ]
  },
  {
   "cell_type": "code",
   "execution_count": null,
   "metadata": {},
   "outputs": [],
   "source": [
    "shap.force_plot(keras_explainer.expected_value, keras_shap_values, keras_x)"
   ]
  },
  {
   "cell_type": "code",
   "execution_count": null,
   "metadata": {},
   "outputs": [],
   "source": [
    "keras_y"
   ]
  },
  {
   "cell_type": "markdown",
   "metadata": {},
   "source": [
    "# LIME on Tensorflow"
   ]
  },
  {
   "cell_type": "code",
   "execution_count": null,
   "metadata": {},
   "outputs": [],
   "source": [
    "from lime.lime_tabular import LimeTabularExplainer"
   ]
  },
  {
   "cell_type": "code",
   "execution_count": null,
   "metadata": {},
   "outputs": [],
   "source": [
    "tf_lime_explainer = LimeTabularExplainer(\n",
    "                X_train.values,\n",
    "                class_names=[\"No\", \"Yes\"],\n",
    "                feature_names=list(X_train.columns),\n",
    "                categorical_features=categorical_features)"
   ]
  },
  {
   "cell_type": "code",
   "execution_count": null,
   "metadata": {},
   "outputs": [],
   "source": [
    "\n",
    "def lime_predict_proba(lime_X):\n",
    "    tmp_df = pd.DataFrame(data=lime_X, columns=input_features)\n",
    "    # Converting to int\n",
    "#     for c in [\"age\", \"education-num\", \"capital-gain\", \"capital-loss\", \"hours-per-week\"]:\n",
    "#         tmp_df[c] = pd.to_numeric(tmp_df[c])\n",
    "    \n",
    "    float_columns = tmp_df.select_dtypes(['float64']).columns\n",
    "    tmp_df[float_columns] = tmp_df[float_columns].astype('int64')\n",
    "    \n",
    "    predict_input_fn = tf.estimator.inputs.pandas_input_fn(\n",
    "        x=tmp_df,\n",
    "        batch_size=BATCH_SIZE,\n",
    "        num_epochs=num_epochs,\n",
    "        shuffle=shuffle)\n",
    "\n",
    "    pred_gen = m.predict(input_fn=predict_input_fn)\n",
    "    pred_list = []\n",
    "    for pred in pred_gen:\n",
    "        tmp = []\n",
    "        pred_list.append(pred[\"probabilities\"])\n",
    "        \n",
    "    pred_arr = np.array(pred_list)\n",
    "\n",
    "    \n",
    "    return pred_arr\n",
    "\n",
    "tf_lime_explanation = tf_lime_explainer.explain_instance(\n",
    "        X_train.iloc[0,:], lime_predict_proba, num_features=13) "
   ]
  },
  {
   "cell_type": "code",
   "execution_count": null,
   "metadata": {},
   "outputs": [],
   "source": [
    "tf_lime_explanation.as_pyplot_figure()"
   ]
  },
  {
   "cell_type": "code",
   "execution_count": null,
   "metadata": {},
   "outputs": [],
   "source": [
    "tf_lime_explanation.show_in_notebook(show_table=True, show_all=True)"
   ]
  },
  {
   "cell_type": "code",
   "execution_count": null,
   "metadata": {},
   "outputs": [],
   "source": []
  },
  {
   "cell_type": "code",
   "execution_count": null,
   "metadata": {},
   "outputs": [],
   "source": []
  }
 ],
 "metadata": {
  "kernelspec": {
   "display_name": "Python 3",
   "language": "python",
   "name": "python3"
  },
  "language_info": {
   "codemirror_mode": {
    "name": "ipython",
    "version": 3
   },
   "file_extension": ".py",
   "mimetype": "text/x-python",
   "name": "python",
   "nbconvert_exporter": "python",
   "pygments_lexer": "ipython3",
   "version": "3.6.6"
  }
 },
 "nbformat": 4,
 "nbformat_minor": 2
}
